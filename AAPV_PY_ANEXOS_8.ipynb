{
  "cells": [
    {
      "cell_type": "markdown",
      "metadata": {
        "id": "view-in-github",
        "colab_type": "text"
      },
      "source": [
        "<a href=\"https://colab.research.google.com/github/aaronparra04/aaronparra04/blob/main/AAPV_PY_ANEXOS_8.ipynb\" target=\"_parent\"><img src=\"https://colab.research.google.com/assets/colab-badge.svg\" alt=\"Open In Colab\"/></a>"
      ]
    },
    {
      "cell_type": "markdown",
      "metadata": {
        "id": "kR7-wusvctUJ"
      },
      "source": [
        "#**Aarón Alejandro Parra Velarde**\n",
        "## Actividad 8\n",
        "08/10/2023 - 11/10/2023"
      ]
    },
    {
      "cell_type": "markdown",
      "metadata": {
        "id": "5QVON5Mmcvui"
      },
      "source": [
        "**1.- Programa en Python que genere un número entre el 1 y 10 (no visible)  preguntarle al usuario que número cree que generó la computadora, el usuario tendrá 3 oportunidades de adivinar. Decir si adivino o si falló en sus 3 intentos.**"
      ]
    },
    {
      "cell_type": "code",
      "execution_count": 40,
      "metadata": {
        "id": "yg6VPqs0dxk4"
      },
      "outputs": [],
      "source": [
        "def validar(num):\n",
        "  try:\n",
        "    i = 3\n",
        "    while i > 0:\n",
        "      print(f\"Intentos: {i}\")\n",
        "      adiv = int(input(\"Adivina el número generado: \"))\n",
        "\n",
        "      if adiv < 1 or adiv > 10:\n",
        "        print(\"Número fuera de rango.\")\n",
        "        continue\n",
        "\n",
        "      if adiv == num:\n",
        "        print(\"GANASTE!\")\n",
        "        return 1\n",
        "        break\n",
        "      else:\n",
        "        if i > 1:\n",
        "          print(\"Error! Inténtalo de nuez\")\n",
        "        elif i == 1:\n",
        "          print(f\"PERDISTE. El número generado era {num}.\")\n",
        "          return -1\n",
        "\n",
        "      input()\n",
        "      clear_output()\n",
        "      i -= 1\n",
        "\n",
        "  except ValueError:\n",
        "    print(\"Solo números enteros.\")"
      ]
    },
    {
      "cell_type": "code",
      "execution_count": 41,
      "metadata": {
        "colab": {
          "base_uri": "https://localhost:8080/",
          "height": 0
        },
        "id": "W7YmIKQScroQ",
        "outputId": "76b44e3c-ecf3-45d8-9ee5-00b87cae5267"
      },
      "outputs": [
        {
          "output_type": "stream",
          "name": "stdout",
          "text": [
            "Intentos: 2\n",
            "Adivina el número generado: 4\n",
            "GANASTE!\n",
            "Para continuar, presione cualquier tecla.\n",
            "Para salir, presione 0.0\n",
            "Juegos ganados: 1\n",
            "Juegos perdidos: 0\n"
          ]
        }
      ],
      "source": [
        "from IPython.display import clear_output\n",
        "import random\n",
        "j = 0\n",
        "k = 0\n",
        "while True:\n",
        "    clear_output()\n",
        "    num = random.randint(1,10)\n",
        "    print (\"Se ha generado un número aleatorio entre 1 y 10.\")\n",
        "    x = validar(num)\n",
        "\n",
        "    if x == 1:\n",
        "      j += 1\n",
        "    else:\n",
        "      k += 1\n",
        "\n",
        "    print(\"Para continuar, presione cualquier tecla.\")\n",
        "    salir = (input(\"Para salir, presione 0.\"))\n",
        "    if salir == '0':\n",
        "      print(f\"Juegos ganados: {j}\")\n",
        "      print(f\"Juegos perdidos: {k}\")\n",
        "      break\n",
        "\n"
      ]
    },
    {
      "cell_type": "markdown",
      "metadata": {
        "id": "oaTB1zz7ynHn"
      },
      "source": [
        "**2.- El juego Busca Número muestra una lista de 10 numeros, sin mostrar su contenido. Al usuario se le muestra un número que se generó aleatoriamente y el usuario tendrá 3 intentos de adivinar en qué índice del arreglo se encuentra.**"
      ]
    },
    {
      "cell_type": "markdown",
      "metadata": {
        "id": "amwIA2-3Wuja"
      },
      "source": [
        "## **Versión 1**"
      ]
    },
    {
      "cell_type": "code",
      "execution_count": 18,
      "metadata": {
        "id": "5hJH3So9VsVm"
      },
      "outputs": [],
      "source": [
        "def llen_lista_ciclo(lista2):\n",
        "  while len(lista2) < 10:\n",
        "    nrand = random.randint(1,10)\n",
        "    if nrand not in lista2:\n",
        "      lista2.append(nrand)\n",
        "  return lista2"
      ]
    },
    {
      "cell_type": "code",
      "execution_count": 37,
      "metadata": {
        "id": "9HPsB9CFY0pi"
      },
      "outputs": [],
      "source": [
        "def juego(lista2,lista):\n",
        "  try:\n",
        "    i = 3\n",
        "    print(lista)\n",
        "    lista = lista2\n",
        "    numadiv = random.randint(1,10)\n",
        "\n",
        "    while i > 0:\n",
        "      print(f\"Intentos:{i}\")\n",
        "      indice = int(input(f\"En qué índice de la lista está el {numadiv}?\"))\n",
        "\n",
        "      if indice < 0 or indice > 9:\n",
        "        raise ValueError\n",
        "        continue\n",
        "\n",
        "      inum = lista.index(numadiv)\n",
        "\n",
        "      if indice == inum:\n",
        "        print(\"GANASTE!\")\n",
        "        print(lista)\n",
        "        break\n",
        "      else:\n",
        "        if i > 1:\n",
        "          print(\"Fallaste. Inténtalo de nuevo.\")\n",
        "          input(\"\")\n",
        "        elif i == 1:\n",
        "          print(f\"PERDISTE. El {numadiv} estaba en el índice {inum}\")\n",
        "          print(lista)\n",
        "          input(\"\")\n",
        "      i -= 1\n",
        "      clear_output()\n",
        "  except ValueError:\n",
        "    print(\"Solo números enteros.\")"
      ]
    },
    {
      "cell_type": "code",
      "execution_count": 20,
      "metadata": {
        "id": "cE5SCmE9yxOv",
        "colab": {
          "base_uri": "https://localhost:8080/",
          "height": 0
        },
        "outputId": "bc9b14fb-2623-4720-f09b-df111e4be31a"
      },
      "outputs": [
        {
          "name": "stdout",
          "output_type": "stream",
          "text": [
            "Intentos:1\n",
            "En qué índice de la lista está el 4?0\n",
            "GANASTE!\n",
            "[4, 5, 10, 6, 2, 1, 9, 8, 7, 3]\n",
            "Para continuar, presione cualquier tecla.\n",
            "Para salir, presione 0. 0\n"
          ]
        }
      ],
      "source": [
        "from IPython.display import clear_output\n",
        "import random\n",
        "\n",
        "while True:\n",
        "  clear_output()\n",
        "  lista = []\n",
        "  lista2 = []\n",
        "\n",
        "  for i in range(10):\n",
        "    lista.append('X')\n",
        "\n",
        "  lista2 = llen_lista_ciclo(lista2)\n",
        "  juego(lista2,lista)\n",
        "\n",
        "  print(\"Para continuar, presione cualquier tecla.\")\n",
        "  salir = input(\"Para salir, presione 0. \")\n",
        "\n",
        "  if salir == '0':\n",
        "    break\n",
        "\n"
      ]
    },
    {
      "cell_type": "markdown",
      "metadata": {
        "id": "Mp6_7BM8WvVc"
      },
      "source": [
        "## **Versión 2**"
      ]
    },
    {
      "cell_type": "code",
      "execution_count": 23,
      "metadata": {
        "id": "tyawnsfsXHXD"
      },
      "outputs": [],
      "source": [
        "def llen_lista_rand(lista2):\n",
        "  lista2 = random.sample(range(1,11),10)\n",
        "  return lista2"
      ]
    },
    {
      "cell_type": "code",
      "execution_count": 24,
      "metadata": {
        "colab": {
          "base_uri": "https://localhost:8080/",
          "height": 0
        },
        "id": "AygxLjx4W_Nz",
        "outputId": "410d69eb-6571-49d7-8abe-e5e2d2ecfdec"
      },
      "outputs": [
        {
          "name": "stdout",
          "output_type": "stream",
          "text": [
            "Intentos:2\n",
            "En qué índice de la lista está el 8?5\n",
            "GANASTE!\n",
            "[3, 2, 5, 10, 1, 8, 6, 7, 4, 9]\n",
            "Para continuar, presione cualquier tecla.\n",
            "Para salir, presione 0. 0\n"
          ]
        }
      ],
      "source": [
        "from IPython.display import clear_output\n",
        "import random\n",
        "\n",
        "while True:\n",
        "  clear_output()\n",
        "  lista = []\n",
        "  lista2 = []\n",
        "\n",
        "  for i in range(10):\n",
        "    lista.append('X')\n",
        "\n",
        "  lista2 = llen_lista_rand(lista2)\n",
        "  juego(lista2,lista)\n",
        "\n",
        "  print(\"Para continuar, presione cualquier tecla.\")\n",
        "  salir = input(\"Para salir, presione 0. \")\n",
        "  if salir == '0':\n",
        "    break"
      ]
    },
    {
      "cell_type": "markdown",
      "metadata": {
        "id": "_Y9PPMymdTV-"
      },
      "source": [
        "## **Versión 3**"
      ]
    },
    {
      "cell_type": "code",
      "execution_count": 36,
      "metadata": {
        "id": "zwiC7jLodYfI"
      },
      "outputs": [],
      "source": [
        "def llen_lista_rand2(lista2):\n",
        "  for i in range(1,11):\n",
        "    lista2.append(i)\n",
        "    random.shuffle(lista2)\n",
        "  return lista2"
      ]
    },
    {
      "cell_type": "code",
      "execution_count": 39,
      "metadata": {
        "colab": {
          "base_uri": "https://localhost:8080/",
          "height": 0
        },
        "id": "Zff-iXPrdo1l",
        "outputId": "6a984c88-0a8d-486d-c2dc-470e351bbb43"
      },
      "outputs": [
        {
          "name": "stdout",
          "output_type": "stream",
          "text": [
            "Intentos:1\n",
            "En qué índice de la lista está el 9?1\n",
            "GANASTE!\n",
            "[10, 9, 8, 5, 1, 2, 6, 7, 4, 3]\n",
            "Para continuar, presione cualquier tecla.\n",
            "Para salir, presione 0. 0\n"
          ]
        }
      ],
      "source": [
        "from IPython.display import clear_output\n",
        "import random\n",
        "\n",
        "while True:\n",
        "  clear_output()\n",
        "  lista = []\n",
        "  lista2 = []\n",
        "\n",
        "  for i in range(10):\n",
        "    lista.append('X')\n",
        "\n",
        "  lista2 = llen_lista_rand2(lista2)\n",
        "  juego(lista2,lista)\n",
        "\n",
        "  print(\"Para continuar, presione cualquier tecla.\")\n",
        "  salir = input(\"Para salir, presione 0. \")\n",
        "  if salir == '0':\n",
        "    break"
      ]
    }
  ],
  "metadata": {
    "colab": {
      "provenance": [],
      "authorship_tag": "ABX9TyNyZ4SUJSEodZWYSyhsmIUA",
      "include_colab_link": true
    },
    "kernelspec": {
      "display_name": "Python 3",
      "name": "python3"
    },
    "language_info": {
      "name": "python"
    }
  },
  "nbformat": 4,
  "nbformat_minor": 0
}