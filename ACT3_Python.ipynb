{
  "nbformat": 4,
  "nbformat_minor": 0,
  "metadata": {
    "colab": {
      "provenance": [],
      "authorship_tag": "ABX9TyNM3B5JzaY1mveliTT9XTqI",
      "include_colab_link": true
    },
    "kernelspec": {
      "name": "python3",
      "display_name": "Python 3"
    },
    "language_info": {
      "name": "python"
    }
  },
  "cells": [
    {
      "cell_type": "markdown",
      "metadata": {
        "id": "view-in-github",
        "colab_type": "text"
      },
      "source": [
        "<a href=\"https://colab.research.google.com/github/aaronparra04/aaronparra04/blob/main/ACT3_Python.ipynb\" target=\"_parent\"><img src=\"https://colab.research.google.com/assets/colab-badge.svg\" alt=\"Open In Colab\"/></a>"
      ]
    },
    {
      "cell_type": "markdown",
      "source": [
        "#**Aarón Alejandro Parra Velarde**\n",
        "## Actividad 3\n",
        "28/08/2023 - 01/09/2023\n",
        "\n",
        "\n",
        "PVAA_A03_432"
      ],
      "metadata": {
        "id": "06U2dNOf5iiD"
      }
    },
    {
      "cell_type": "markdown",
      "source": [
        "**1- Algoritmo que lea 3 calificaciones y calcule el promedio del alumno.**"
      ],
      "metadata": {
        "id": "_7AoGtwj5ksZ"
      }
    },
    {
      "cell_type": "code",
      "execution_count": null,
      "metadata": {
        "colab": {
          "base_uri": "https://localhost:8080/"
        },
        "id": "RQeEoNDd5evT",
        "outputId": "3ffae5be-e92c-4877-bd43-a968d7dfc6c8"
      },
      "outputs": [
        {
          "output_type": "stream",
          "name": "stdout",
          "text": [
            "Dame la primer calificación: 80\n",
            "Dame la segunda calificación: 67\n",
            "Dame la tercer calificación: 92\n",
            "Regular. Promedio:79.66666666666667\n"
          ]
        }
      ],
      "source": [
        "calif1 = float(input(\"Dame la primer calificación: \"))\n",
        "calif2 = float(input(\"Dame la segunda calificación: \"))\n",
        "calif3 = float(input(\"Dame la tercer calificación: \"))\n",
        "\n",
        "prom = (calif1 + calif2 + calif3) / 3\n",
        "\n",
        "if prom < 30:\n",
        "  print(f\"Repetir. Promedio:{prom}\")\n",
        "elif prom < 60:\n",
        "  print(f\"Extraordinario. Promedio:{prom}\")\n",
        "elif prom < 70:\n",
        "  print(f\"Suficiente. Promedio:{prom}\")\n",
        "elif prom < 80:\n",
        "  print(f\"Regular. Promedio:{prom}\")\n",
        "elif prom < 90:\n",
        "  print(f\"Bien. Promedio:{prom}\")\n",
        "elif prom < 98:\n",
        "  print(f\"Muy Bien. Promedio:{prom}\")\n",
        "elif prom <= 100:\n",
        "  print(f\"Excelente. Promedio: {prom}\")\n",
        "else:\n",
        "  print(f\"Error en promedio\")\n"
      ]
    },
    {
      "cell_type": "markdown",
      "source": [
        "**2- Algoritmo que sirva para calcular el salario semanal de un trabajador.**"
      ],
      "metadata": {
        "id": "9R4L5Qd-8g2m"
      }
    },
    {
      "cell_type": "code",
      "source": [
        "htrab = int(input(\"Número de horas trabajadas en la semana: \"))\n",
        "salhora = int(input(\"Sueldo por hora: $\"))\n",
        "\n",
        "if htrab <= 40:\n",
        "  snormal = salhora * htrab\n",
        "  stotal = snormal\n",
        "elif htrab < 50:\n",
        "  snormal = salhora * 40\n",
        "  extra = (salhora * 2) * (htrab - 40)\n",
        "  stotal = snormal + extra\n",
        "else:\n",
        "  snormal = salhora * 40\n",
        "  extra = (salhora * 2) * 9 + (salhora * 3) * (htrab + 1 - 50)\n",
        "  stotal = snormal + extra\n",
        "\n",
        "print(f\"Salario normal: ${snormal}\")\n",
        "print(f\"Salario extra: ${extra}\")\n",
        "print(f\"Salario total: ${stotal}\")"
      ],
      "metadata": {
        "id": "vt41W0Sk8oP9",
        "colab": {
          "base_uri": "https://localhost:8080/"
        },
        "outputId": "06580840-0998-4714-a52a-c3a65f401a5a"
      },
      "execution_count": 14,
      "outputs": [
        {
          "output_type": "stream",
          "name": "stdout",
          "text": [
            "Número de horas trabajadas en la semana: 48\n",
            "Sueldo por hora: $120\n",
            "Salario normal: $4800\n",
            "Salario extra: $1920\n",
            "Salario total: $6720\n"
          ]
        }
      ]
    },
    {
      "cell_type": "markdown",
      "source": [
        "**3- Algoritmo que sirva para desplegar el Total de una llamada telefónica.**"
      ],
      "metadata": {
        "id": "Xn4-_cwn8vuW"
      }
    },
    {
      "cell_type": "code",
      "source": [
        "min = int(input(\"Ingrese los minutos que duro la llamada: \"))\n",
        "tipo = int(input(\"Tipo de llamada (1-Local, 2-Nacional, 3-Internacional): $\"))\n",
        "\n",
        "if tipo == 1:\n",
        "  total = 3\n",
        "  subt = total / (1.16)\n",
        "  iva = total - subt\n",
        "\n",
        "elif tipo == 2:\n",
        "  if min <= 3:\n",
        "    total = 7\n",
        "    subt = total / (1.16)\n",
        "    iva = total - subt\n",
        "  else:\n",
        "    total = 7 + (2 * (min - 3))\n",
        "    subt = total / (1.16)\n",
        "    iva = total - subt\n",
        "\n",
        "elif tipo == 3:\n",
        "  if min <= 3:\n",
        "    total = 9\n",
        "    subt = total / 1.16\n",
        "    iva = total - subt\n",
        "  else:\n",
        "    total = 9 + (4 * (min - 2))\n",
        "    subt = total / (1.16)\n",
        "    iva = total - subt\n",
        "\n",
        "print(f\"Subtotal: ${round(subt,2)}\")\n",
        "print(f\"IVA: ${round(iva,2)}\")\n",
        "print(f\"Total: ${total}\")"
      ],
      "metadata": {
        "colab": {
          "base_uri": "https://localhost:8080/"
        },
        "id": "311DUAzqYEmv",
        "outputId": "dab9a569-6550-4bc1-eeb5-5db534c8a3fa"
      },
      "execution_count": null,
      "outputs": [
        {
          "output_type": "stream",
          "name": "stdout",
          "text": [
            "Ingrese los minutos que duro la llamada: 5\n",
            "Tipo de llamada (1-Local, 2-Nacional, 3-Internacional): $2\n",
            "Subtotal: $9.48\n",
            "IVA: $1.52\n",
            "Total: $11\n"
          ]
        }
      ]
    },
    {
      "cell_type": "markdown",
      "source": [
        "**4- Algoritmo que sirva para calcular el Total a pagar por consumo de agua.**"
      ],
      "metadata": {
        "id": "rz90dLPk8wiF"
      }
    },
    {
      "cell_type": "code",
      "source": [
        "m3 = int(input(\"Ingrese los metros cúbicos de agua consumidos: \"))\n",
        "\n",
        "if m3 <= 4:\n",
        "  total = 50\n",
        "  subt = total / (1.16)\n",
        "  iva = total - subt\n",
        "elif m3 <= 15:\n",
        "  total = 8 * m3\n",
        "  subt = total / (1.16)\n",
        "  iva = total - subt\n",
        "elif m3 <= 50:\n",
        "  total = 10 * m3\n",
        "  subt = total / (1.16)\n",
        "  iva = total - subt\n",
        "else:\n",
        "  total = 11 * m3\n",
        "  subt = total / (1.16)\n",
        "  iva = total - subt\n",
        "\n",
        "print(f\"Subtotal: ${round(subt,2)}\")\n",
        "print(f\"IVA: ${round(iva,2)}\")\n",
        "print(f\"Total: ${total}\")\n"
      ],
      "metadata": {
        "colab": {
          "base_uri": "https://localhost:8080/"
        },
        "id": "Qf46qBeI9BZF",
        "outputId": "0eab5b9a-be41-4746-f3a7-72e20907fec8"
      },
      "execution_count": 3,
      "outputs": [
        {
          "output_type": "stream",
          "name": "stdout",
          "text": [
            "Ingrese los metros cúbicos de agua consumidos: 44\n",
            "Subtotal: $379.31\n",
            "IVA: $60.69\n",
            "Total: $440\n"
          ]
        }
      ]
    },
    {
      "cell_type": "markdown",
      "source": [
        "**5- Calcular el promedio final de la materia de Metodología de la Programación donde la calificación menor de los exámenes se anula y el promedio se calcula en base a 4 exámenes.**"
      ],
      "metadata": {
        "id": "t8jEbLBb9Bz0"
      }
    },
    {
      "cell_type": "code",
      "source": [
        "calif1 = int(input(\"Dame la primer calificación: \"))\n",
        "calif2 = int(input(\"Dame la segunda calificación: \"))\n",
        "calif3 = int(input(\"Dame la tercer calificación: \"))\n",
        "calif4 = int(input(\"Dame la cuarta calificación: \"))\n",
        "calif5 = int(input(\"Dame la quinta calificación: \"))\n",
        "\n",
        "menor = calif1\n",
        "if menor > calif2:\n",
        "  menor = calif2\n",
        "elif menor > calif3:\n",
        "  menor = calif3\n",
        "elif menor > calif4:\n",
        "  menor = calif4\n",
        "elif menor > calif5:\n",
        "  menor = calif5\n",
        "\n",
        "prom = (calif1 + calif2 + calif3 + calif4 + calif5 - menor) / 4\n",
        "\n",
        "print(f\"Promedio Final: {prom}\")"
      ],
      "metadata": {
        "id": "SiIRtgwm9bYM",
        "colab": {
          "base_uri": "https://localhost:8080/"
        },
        "outputId": "64093146-d92b-49f3-f62d-ca1c7b13449a"
      },
      "execution_count": 2,
      "outputs": [
        {
          "output_type": "stream",
          "name": "stdout",
          "text": [
            "Dame la primer calificación: 83\n",
            "Dame la segunda calificación: 85\n",
            "Dame la tercer calificación: 92\n",
            "Dame la cuarta calificación: 88\n",
            "Dame la quinta calificación: 91\n",
            "Promedio Final: 89.0\n"
          ]
        }
      ]
    },
    {
      "cell_type": "markdown",
      "source": [
        "**6- Algoritmo que sirva para el juego del CHINCHAMPU para 1 jugador y la computadora con condición anidada.**"
      ],
      "metadata": {
        "id": "mNwnjCre9byc"
      }
    },
    {
      "cell_type": "code",
      "source": [
        "import random\n",
        "opc = int(input(\"Elige (1-Piedra, 2-Papel, 3-Tijera): \"))\n",
        "\n",
        "comp = random.randint(1,3)\n",
        "\n",
        "if opc == 1:\n",
        "  if comp == 1:\n",
        "    print(\"Es un empate. La computadora escogió piedra.\")\n",
        "  else:\n",
        "    if comp == 2:\n",
        "      print(\"Perdiste. La computadora escogió papel.\")\n",
        "    else:\n",
        "      print(\"Ganaste. La computadora escogió tijeras.\")\n",
        "else:\n",
        "  if opc == 2:\n",
        "    if comp == 1:\n",
        "      print(\"Ganaste. La computadora escogió piedra.\")\n",
        "    else:\n",
        "      if comp == 2:\n",
        "        print(\"Es un empate. La computadora escogió papel.\")\n",
        "      else:\n",
        "        print(\"Perdiste. La computadora escogió tijeras.\")\n",
        "  else:\n",
        "    if comp == 1:\n",
        "      print(\"Perdiste. La computadora escogió piedra.\")\n",
        "    else:\n",
        "      if comp == 2:\n",
        "        print(\"Ganaste. La computadora escogió papel.\")\n",
        "      else:\n",
        "        print(\"Es un empate. La computadora escogió tijeras.\")\n",
        "\n"
      ],
      "metadata": {
        "id": "CpBlR957Dm6t",
        "colab": {
          "base_uri": "https://localhost:8080/"
        },
        "outputId": "b8cabc2b-1a2f-4b49-de6e-0a3f2b454d64"
      },
      "execution_count": 22,
      "outputs": [
        {
          "output_type": "stream",
          "name": "stdout",
          "text": [
            "Elige (1-Piedra, 2-Papel, 3-Tijera): 1\n",
            "Ganaste. La computadora escogió tijeras.\n"
          ]
        }
      ]
    },
    {
      "cell_type": "markdown",
      "source": [
        "**7- Algoritmo que sirva para el juego del CHINCHAMPU para 1 jugador y la computadora con selección múltiple.**"
      ],
      "metadata": {
        "id": "YkqMStsQbxls"
      }
    },
    {
      "cell_type": "code",
      "source": [
        "import random\n",
        "opc = int(input(\"Elige (1-Piedra, 2-Papel, 3-Tijera): \"))\n",
        "\n",
        "comp = random.randint(1,3)\n",
        "\n",
        "if opc == 1:\n",
        "  if comp == 1:\n",
        "    print(\"Es un empate. La computadora escogió piedra.\")\n",
        "  elif comp == 2:\n",
        "    print(\"Perdiste. La computadora escogió papel.\")\n",
        "  elif comp == 3:\n",
        "    print(\"Ganaste. La computadora escogió tijeras.\")\n",
        "\n",
        "elif opc == 2:\n",
        "  if comp == 1:\n",
        "    print(\"Ganaste. La computadora escogió piedra.\")\n",
        "  elif comp == 2:\n",
        "    print(\"Es un empate. La computadora escogió papel.\")\n",
        "  elif comp == 3:\n",
        "    print(\"Perdiste. La computadora escogió tijeras.\")\n",
        "\n",
        "elif opc == 3:\n",
        "  if comp == 1:\n",
        "    print(\"Perdiste. La computadora escogió piedra.\")\n",
        "  elif comp == 2:\n",
        "    print(\"Ganaste. La computadora escogió papel.\")\n",
        "  elif comp == 3:\n",
        "    print(\"Es un empate. La computadora escogió tijeras.\")\n",
        "\n"
      ],
      "metadata": {
        "id": "9BYOaQ0Ab9Ur",
        "colab": {
          "base_uri": "https://localhost:8080/"
        },
        "outputId": "62478f6b-9a01-46fc-be2c-af249510da49"
      },
      "execution_count": 24,
      "outputs": [
        {
          "output_type": "stream",
          "name": "stdout",
          "text": [
            "Elige (1-Piedra, 2-Papel, 3-Tijera): 3\n",
            "Es un empate. La computadora escogió tijeras.\n"
          ]
        }
      ]
    },
    {
      "cell_type": "markdown",
      "source": [
        "**8- Una tienda de electrónica ofrece descuentos a sus clientes, dependiendo del tipo de producto que compren. Escribe un programa que calcule el precio a pagar por un cliente, tomando en cuenta los descuentos correspondientes.**"
      ],
      "metadata": {
        "id": "-mW6s2tab_Z-"
      }
    },
    {
      "cell_type": "code",
      "source": [
        "print(\"¿Qué artículo va a llevar?: \")\n",
        "artic = int(input(\"1- Computadora, 2- Televisión, 3- Consola \"))\n",
        "precio1 = int(input(\"Ingrese el precio del artículo: \"))\n",
        "\n",
        "if artic == 1:\n",
        "  total1 = precio1 * 0.95\n",
        "  artic2 = int(input(\"¿Va a llevar una impresora?: (1-Si,0-No) \"))\n",
        "  if artic2 == 1:\n",
        "    precio2 = int(input(\"Ingrese el precio del artículo: \"))\n",
        "    total2 = precio2 * 0.9\n",
        "    total = total1 + total2\n",
        "  elif artic2 == 0:\n",
        "    total = total1\n",
        "\n",
        "elif artic == 2:\n",
        "  total1 = precio1 * 0.93\n",
        "  artic2 = int(input(\"¿Va a llevar una barra de sonido?: (1-Si,0-No) \"))\n",
        "  if artic2 == 1:\n",
        "    precio2 = int(input(\"Ingrese el precio del artículo: \"))\n",
        "    total2 = precio2 * 0.85\n",
        "    total = total1 + total2\n",
        "  elif artic2 == 0:\n",
        "    total = total1\n",
        "\n",
        "elif artic == 3:\n",
        "  total1 = precio1 * 0.9\n",
        "  artic2 = int(input(\"¿Va a llevar un videojuego?: (1-Si,0-No) \"))\n",
        "  if artic2 == 1:\n",
        "    precio2 = int(input(\"Ingrese el precio del artículo: \"))\n",
        "    total2 = precio2 * 0.8\n",
        "    total = total1 + total2\n",
        "  elif artic2 == 0:\n",
        "    total = total1\n",
        "\n",
        "print(f\"El total a pagar es de: ${round(total,2)}\")\n"
      ],
      "metadata": {
        "colab": {
          "base_uri": "https://localhost:8080/"
        },
        "id": "yBWOwnX_caLS",
        "outputId": "8eb1fdc9-e995-4bb9-87c3-16b6e615c161"
      },
      "execution_count": null,
      "outputs": [
        {
          "output_type": "stream",
          "name": "stdout",
          "text": [
            "¿Qué artículo va a llevar?: \n",
            "1- Computadora, 2- Televisión, 3- Consola 3\n",
            "Ingrese el precio del artículo: 7500\n",
            "¿Va a llevar un videojuego?: (1-Si,0-No) 1\n",
            "Ingrese el precio del artículo: 1200\n",
            "El total a pagar es de: $7710.0\n"
          ]
        }
      ]
    },
    {
      "cell_type": "markdown",
      "source": [
        "**9- En una tienda de ropa, los precios de los productos cambian dependiendo de la temporada. Escribe un programa que calcule el precio a pagar por un cliente, tomando en cuenta los descuentos correspondientes.**"
      ],
      "metadata": {
        "id": "Chks3iBCDnPe"
      }
    },
    {
      "cell_type": "code",
      "source": [
        "precio = int(input(\"Ingrese el precio del producto: \"))\n",
        "temp = int(input(\"Temporada actual (1=Primavera,2=Verano,3=Otoño,4=Invierno):\"))\n",
        "\n",
        "if temp == 1 and temp == 3:\n",
        "  color = int(input(\"¿Su producto tiene etiqueta amarilla? (1= Si, 2=No): \"))\n",
        "  if color == 1:\n",
        "    desc = precio * 0.1\n",
        "    total = precio - desc\n",
        "  else:\n",
        "    total = precio\n",
        "\n",
        "elif temp == 2:\n",
        "  desc = precio * 0.2\n",
        "  total = precio - desc\n",
        "\n",
        "elif temp == 4:\n",
        "  color = int(input(\"¿Su producto tiene etiqueta roja? (1= Si, 2=No): \"))\n",
        "  if color == 1:\n",
        "    desc = precio * 0.1\n",
        "    total = precio - desc\n",
        "\n",
        "print(f\"El precio a pagar por el artículo es de: ${total}\")"
      ],
      "metadata": {
        "id": "hmPoA29sD6Fd",
        "colab": {
          "base_uri": "https://localhost:8080/"
        },
        "outputId": "4f523086-1248-43c9-ec07-36b6fab32c01"
      },
      "execution_count": null,
      "outputs": [
        {
          "output_type": "stream",
          "name": "stdout",
          "text": [
            "Ingrese el precio del producto: 1500\n",
            "Temporada actual (1=Primavera,2=Verano,3=Otoño,4=Invierno):2\n",
            "El precio a pagar por el artículo es de: $1200.0\n"
          ]
        }
      ]
    },
    {
      "cell_type": "markdown",
      "source": [
        "**10- Un restaurante ofrece descuentos a sus clientes, dependiendo del día de la semana y del tipo de menú que pidan. Escribe un programa que calcule el precio a pagar por un cliente, tomando en cuenta los descuentos correspondientes.**"
      ],
      "metadata": {
        "id": "vgIsGS4scgmx"
      }
    },
    {
      "cell_type": "code",
      "source": [
        "print(\"Día de la semana: \")\n",
        "dia = int(input(\"1-Lunes, 2-Martes, 3-Miércoles, 4-Jueves, 5-Viernes, 6-Sábado, 7-Domingo \"))\n",
        "\n",
        "if dia == 1:\n",
        "  opc1 = int(input(\"¿Desea el menú del día?: (1-Si,0-No) \"))\n",
        "  precio = int(input(\"Ingrese el precio de la comida: \"))\n",
        "  if opc1 == 1:\n",
        "    total = precio * 0.9\n",
        "  else:\n",
        "    total = precio\n",
        "\n",
        "elif dia == 2:\n",
        "  opc1 = int(input(\"¿Desea el menú infantil?: (1-Si,0-No) \"))\n",
        "  precio = int(input(\"Ingrese el precio de la comida: \"))\n",
        "  if opc1 == 1:\n",
        "    total = precio * 0.8\n",
        "  else:\n",
        "    total = precio\n",
        "\n",
        "elif dia == 3:\n",
        "  opc1 = int(input(\"¿Desea el menú vegetariano?: (1-Si,0-No) \"))\n",
        "  precio = int(input(\"Ingrese el precio de la comida: \"))\n",
        "  if opc1 == 1:\n",
        "    total = precio * 0.85\n",
        "  else:\n",
        "    total = precio\n",
        "\n",
        "elif dia == 4:\n",
        "  opc1 = int(input(\"¿Desea el menú del chef?: (1-Si,0-No) \"))\n",
        "  precio = int(input(\"Ingrese el precio de la comida: \"))\n",
        "  if opc1 == 1:\n",
        "    total = precio * 0.95\n",
        "  else:\n",
        "    total = precio\n",
        "\n",
        "elif dia == 5:\n",
        "  opc1 = int(input(\"¿Desea el menú del día?: (1-Si,0-No) \"))\n",
        "  precio = int(input(\"Ingrese el precio de la comida: \"))\n",
        "  if opc1 == 1:\n",
        "    total = precio * 0.95\n",
        "  else:\n",
        "    total = precio\n",
        "\n",
        "elif dia == 6 and dia == 7:\n",
        "  precio = int(input(\"Ingrese el precio de la comida: \"))\n",
        "  total = precio\n",
        "\n",
        "print(f\"El precio a pagar por la comida es de: ${total}\")"
      ],
      "metadata": {
        "colab": {
          "base_uri": "https://localhost:8080/"
        },
        "id": "aMg8FGRLcp0b",
        "outputId": "0843bce7-488a-4ea6-f830-2bc5835e7130"
      },
      "execution_count": 9,
      "outputs": [
        {
          "output_type": "stream",
          "name": "stdout",
          "text": [
            "Día de la semana: \n",
            "1-Lunes, 2-Martes, 3-Miércoles, 4-Jueves, 5-Viernes, 6-Sábado, 7-Domingo 5\n",
            "¿Desea el menú del día?: (1-Si,0-No) 1\n",
            "Ingrese el precio de la comida: 220\n",
            "El precio a pagar por la comida es de: $209.0\n"
          ]
        }
      ]
    }
  ]
}