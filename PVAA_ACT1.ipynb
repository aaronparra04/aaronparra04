{
  "nbformat": 4,
  "nbformat_minor": 0,
  "metadata": {
    "colab": {
      "provenance": [],
      "authorship_tag": "ABX9TyMEzyRx5rrD3MDkyCyaI5Cc",
      "include_colab_link": true
    },
    "kernelspec": {
      "name": "python3",
      "display_name": "Python 3"
    },
    "language_info": {
      "name": "python"
    }
  },
  "cells": [
    {
      "cell_type": "markdown",
      "metadata": {
        "id": "view-in-github",
        "colab_type": "text"
      },
      "source": [
        "<a href=\"https://colab.research.google.com/github/aaronparra04/aaronparra04/blob/main/PVAA_ACT1.ipynb\" target=\"_parent\"><img src=\"https://colab.research.google.com/assets/colab-badge.svg\" alt=\"Open In Colab\"/></a>"
      ]
    },
    {
      "cell_type": "markdown",
      "source": [
        "#**Aarón Alejandro Parra Velarde**\n",
        "14/08/2023 - 15/08/2023\n",
        "\n",
        "PVAA_A01_01_432"
      ],
      "metadata": {
        "id": "c4H0c7g_JNZl"
      }
    },
    {
      "cell_type": "markdown",
      "source": [
        "**1.- Mostrar un mensaje que diga “HOLA MUNDO” en un solo renglón usando 2 print.**"
      ],
      "metadata": {
        "id": "ukYFDoLtKaDh"
      }
    },
    {
      "cell_type": "code",
      "source": [
        "print(\"Hola\", end=\" \")\n",
        "print(\"Mundo\")"
      ],
      "metadata": {
        "colab": {
          "base_uri": "https://localhost:8080/"
        },
        "id": "dNrFoUwnK2sS",
        "outputId": "0c6aff25-202e-42e0-8dc0-c5c42e1a47b4"
      },
      "execution_count": null,
      "outputs": [
        {
          "output_type": "stream",
          "name": "stdout",
          "text": [
            "Hola Mundo\n"
          ]
        }
      ]
    },
    {
      "cell_type": "markdown",
      "source": [
        "**2.- Programa que lea 2 números, realizar la suma y desplegar la suma de los 2 números.**"
      ],
      "metadata": {
        "id": "c1iKQawiO-Gr"
      }
    },
    {
      "cell_type": "code",
      "source": [
        "num1 = int(input(\"Dame el primer número: \"))\n",
        "num2 = int(input(\"Dame el segundo número: \"))\n",
        "\n",
        "suma = num1 + num2\n",
        "\n",
        "print(f\"La suma es igual a: {suma}\")"
      ],
      "metadata": {
        "colab": {
          "base_uri": "https://localhost:8080/"
        },
        "id": "gT2c4l_lPJf_",
        "outputId": "ee24c9ab-e38c-4a61-b0be-37fead127f2f"
      },
      "execution_count": null,
      "outputs": [
        {
          "output_type": "stream",
          "name": "stdout",
          "text": [
            "Dame el primer número: 8\n",
            "Dame el segundo número: 13\n",
            "La suma es igual a: 21\n"
          ]
        }
      ]
    },
    {
      "cell_type": "markdown",
      "source": [
        "**3.- Programa en Python que lea 2 números y realice las 4 operaciones básicas.**"
      ],
      "metadata": {
        "id": "Av-mcewvQLTS"
      }
    },
    {
      "cell_type": "code",
      "source": [
        "num1 = float(input(\"Dame el primer número: \"))\n",
        "num2 = float(input(\"Dame el segundo número: \"))\n",
        "\n",
        "suma = num1 + num2\n",
        "resta = num1 - num2\n",
        "mult = num1 * num2\n",
        "div = num1 / num2\n",
        "\n",
        "print(f\"{num1} + {num2} = {suma}\")\n",
        "print(f\"{num1} - {num2} = {resta}\")\n",
        "print(f\"{num1} * {num2} = {mult}\")\n",
        "print(f\"{num1} / {num2} = {div}\")"
      ],
      "metadata": {
        "colab": {
          "base_uri": "https://localhost:8080/"
        },
        "id": "pgHG-AfpQSyv",
        "outputId": "4211a27d-e025-4c2b-f7d9-b764d9887901"
      },
      "execution_count": null,
      "outputs": [
        {
          "output_type": "stream",
          "name": "stdout",
          "text": [
            "Dame el primer número: 17\n",
            "Dame el segundo número: 5\n",
            "17.0 + 5.0 = 22.0\n",
            "17.0 - 5.0 = 12.0\n",
            "17.0 * 5.0 = 85.0\n",
            "17.0 / 5.0 = 3.4\n"
          ]
        }
      ]
    },
    {
      "cell_type": "markdown",
      "source": [
        "**4.- Programa que calcula el área de un triángulo.**"
      ],
      "metadata": {
        "id": "wcQlwKLETKke"
      }
    },
    {
      "cell_type": "code",
      "source": [
        "base = float(input(\"Dame la medida de la base: \"))\n",
        "alt = float(input(\"Dame la medida de la altura: \"))\n",
        "\n",
        "area = (base * alt) / 2\n",
        "\n",
        "print(f\"El área del triángulo es {area} u2\")"
      ],
      "metadata": {
        "colab": {
          "base_uri": "https://localhost:8080/"
        },
        "id": "qDqaLRzITldJ",
        "outputId": "8a8b16bd-a0f8-4d01-9e0b-dd44ec172c18"
      },
      "execution_count": null,
      "outputs": [
        {
          "output_type": "stream",
          "name": "stdout",
          "text": [
            "Dame la medida de la base: 7\n",
            "Dame la medida de la altura: 9\n",
            "El área del triángulo es 31.5 u2\n"
          ]
        }
      ]
    },
    {
      "cell_type": "markdown",
      "source": [
        "**5.- Programa que lea una medida en centímetros y desplegar la misma medida convertida en pies y pulgadas.**"
      ],
      "metadata": {
        "id": "gcpCLRovUlHI"
      }
    },
    {
      "cell_type": "code",
      "source": [
        "medcm = float(input(\"Dame la medida (en cm): \"))\n",
        "\n",
        "ft = medcm / 30.48\n",
        "plg = medcm / 2.54\n",
        "\n",
        "print(f\"{medcm} cm es igual a {ft} ft y {plg} plg\")"
      ],
      "metadata": {
        "colab": {
          "base_uri": "https://localhost:8080/"
        },
        "id": "ztKF1Q5EU94s",
        "outputId": "0379bf93-361c-4487-fd74-b70b4545a9a8"
      },
      "execution_count": null,
      "outputs": [
        {
          "output_type": "stream",
          "name": "stdout",
          "text": [
            "Dame la medida (en cm): 10\n",
            "10.0 cm es igual a 0.32808398950131235 ft y 3.937007874015748 plg\n"
          ]
        }
      ]
    },
    {
      "cell_type": "markdown",
      "source": [
        "**6.- Programa que lea una temperatura en grados Centígrados y desplegarla en grados Fahrenheit y grados Kelvin.**"
      ],
      "metadata": {
        "id": "ObngtyDDWblE"
      }
    },
    {
      "cell_type": "code",
      "source": [
        "centig = float(input(\"Ingrese la temperatura en grados Centígrados: \"))\n",
        "\n",
        "fahren = (centig * (9/5)) + 32\n",
        "kelvin = centig + 273.15\n",
        "\n",
        "print(f\"{centig}°C es igual a {fahren}°F y {kelvin}°K\")\n"
      ],
      "metadata": {
        "colab": {
          "base_uri": "https://localhost:8080/"
        },
        "id": "g3WnHKHhWpH9",
        "outputId": "09879a6e-c95d-4fc9-e7d0-593a6c9cc5d6"
      },
      "execution_count": null,
      "outputs": [
        {
          "output_type": "stream",
          "name": "stdout",
          "text": [
            "Ingrese la temperatura en grados Centígrados: 26\n",
            "26.0°C es igual a 78.80000000000001°F y 299.15°K\n"
          ]
        }
      ]
    },
    {
      "cell_type": "markdown",
      "source": [
        "**7.- Programa que lea 4 calificaciones de un alumno, y despliegue el promedio del alumno.**"
      ],
      "metadata": {
        "id": "t2b9m1GKYfoR"
      }
    },
    {
      "cell_type": "code",
      "source": [
        "calif1 = float(input(\"Dame la primer calificación: \"))\n",
        "calif2 = float(input(\"Dame la segunda calificación: \"))\n",
        "calif3 = float(input(\"Dame la tercer calificación: \"))\n",
        "calif4 = float(input(\"Dame la cuarta calificación: \"))\n",
        "\n",
        "prom = (calif1 + calif2 + calif3 + calif4) / 4\n",
        "\n",
        "print(f\"Su promedio final es de {prom}\")"
      ],
      "metadata": {
        "colab": {
          "base_uri": "https://localhost:8080/"
        },
        "id": "B9XkrUl_Yrus",
        "outputId": "b6aa4048-467f-4664-c553-c217ef9d2826"
      },
      "execution_count": null,
      "outputs": [
        {
          "output_type": "stream",
          "name": "stdout",
          "text": [
            "Dame la primer calificación: 10\n",
            "Dame la segunda calificación: 9.1\n",
            "Dame la tercer calificación: 8.7\n",
            "Dame la cuarta calificación: 8.9\n",
            "Su promedio final es de 9.175\n"
          ]
        }
      ]
    }
  ]
}