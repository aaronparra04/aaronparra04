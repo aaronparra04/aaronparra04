{
  "nbformat": 4,
  "nbformat_minor": 0,
  "metadata": {
    "colab": {
      "provenance": [],
      "authorship_tag": "ABX9TyMdSAdPdd1kqJErckWwqpCg",
      "include_colab_link": true
    },
    "kernelspec": {
      "name": "python3",
      "display_name": "Python 3"
    },
    "language_info": {
      "name": "python"
    }
  },
  "cells": [
    {
      "cell_type": "markdown",
      "metadata": {
        "id": "view-in-github",
        "colab_type": "text"
      },
      "source": [
        "<a href=\"https://colab.research.google.com/github/aaronparra04/aaronparra04/blob/main/AAPV_PY_ANEXOS_6.ipynb\" target=\"_parent\"><img src=\"https://colab.research.google.com/assets/colab-badge.svg\" alt=\"Open In Colab\"/></a>"
      ]
    },
    {
      "cell_type": "markdown",
      "source": [
        "#**Aarón Alejandro Parra Velarde**\n",
        "## Actividad 6\n",
        "18/09/2023 - 25/09/2023\n",
        "\n",
        "\n",
        "PVAA_A06_432"
      ],
      "metadata": {
        "id": "mBRoS4eBfinD"
      }
    },
    {
      "cell_type": "markdown",
      "source": [
        "**-Menú Principal**"
      ],
      "metadata": {
        "id": "S54LzlQ_hYOQ"
      }
    },
    {
      "cell_type": "code",
      "execution_count": 30,
      "metadata": {
        "id": "nDZXqMHlNS8T",
        "colab": {
          "base_uri": "https://localhost:8080/"
        },
        "outputId": "9181e1cb-12c0-4670-85eb-45e3e6a92a41"
      },
      "outputs": [
        {
          "name": "stdout",
          "output_type": "stream",
          "text": [
            "1- Leer n cantidad de números\n",
            "2- Generar números impares\n",
            "3- Leer números en un rango dado\n",
            "4- Area de un triángulo\n",
            "5- Promedio de 3 calificaciones\n",
            "0- Salir\n",
            "Elige una opción: 0\n"
          ]
        }
      ],
      "source": [
        "from IPython.display import clear_output\n",
        "import random\n",
        "def menu():\n",
        "  try:\n",
        "    opc = 5\n",
        "    while True:\n",
        "      opciones()\n",
        "      opc = int(input(\"Elige una opción: \"))\n",
        "      if opc < 1 and opc > 5:\n",
        "        raise ValueError\n",
        "\n",
        "      if opc == 1:\n",
        "        clear_output()\n",
        "        numeros()\n",
        "      elif opc == 2:\n",
        "        clear_output()\n",
        "        nimpar()\n",
        "      elif opc == 3:\n",
        "        clear_output()\n",
        "        numval()\n",
        "      elif opc == 4:\n",
        "        5\n",
        "        medtri()\n",
        "      elif opc == 5:\n",
        "        clear_output()\n",
        "        calif()\n",
        "      elif opc == 0:\n",
        "        break\n",
        "\n",
        "  except ValueError:\n",
        "    print(\"Ingresa un número entre 1 y 5, NO caracteres\")\n",
        "\n",
        "menu()"
      ]
    },
    {
      "cell_type": "code",
      "source": [
        "def opciones():\n",
        "  print(\"1- Leer n cantidad de números\")\n",
        "  print(\"2- Generar números impares\")\n",
        "  print(\"3- Leer números en un rango dado\")\n",
        "  print(\"4- Area de un triángulo\")\n",
        "  print(\"5- Promedio de 3 calificaciones\")\n",
        "  print(\"0- Salir\")"
      ],
      "metadata": {
        "id": "sm-vp8EDmXr9"
      },
      "execution_count": 11,
      "outputs": []
    },
    {
      "cell_type": "code",
      "source": [
        "def numeros():\n",
        "  try:\n",
        "    mayor = 0\n",
        "    ac = 0\n",
        "    menor = 99999999\n",
        "    i = 0\n",
        "    while True:\n",
        "\n",
        "      num = int(input(f\"Dame el número {i+1}: \"))\n",
        "      ac += num\n",
        "      if num > mayor:\n",
        "        mayor = num\n",
        "      elif num < menor:\n",
        "        menor = num\n",
        "\n",
        "      salir = int(input(\"Para salir presione 0. Para continuar, presione 1.\"))\n",
        "      if salir == 0:\n",
        "        break\n",
        "      i += 1\n",
        "      clear_output()\n",
        "\n",
        "    media = ac / i\n",
        "    print(f\"La suma de números dados es {ac}\")\n",
        "    print(f\"La media de números es {media}\")\n",
        "    print(f\"El número mayor es {mayor}\")\n",
        "    print(f\"El número menor es {menor}\")\n",
        "\n",
        "    input(\"Presione enter para continuar.\")\n",
        "    clear_output()\n",
        "\n",
        "  except ValueError:\n",
        "    print(\"Error. Solo números enteros.\")"
      ],
      "metadata": {
        "id": "OKBwIQKLYaPq"
      },
      "execution_count": 14,
      "outputs": []
    },
    {
      "cell_type": "code",
      "source": [
        "def nimpar():\n",
        "  try:\n",
        "    j = 0\n",
        "    k = 0\n",
        "    acpar = 0\n",
        "    acimpar = 0\n",
        "\n",
        "    for i in range (25):\n",
        "      num = random.randint(10,60)\n",
        "      print(num)\n",
        "\n",
        "      if num % 2 == 0:\n",
        "        acpar += num\n",
        "        j += 1\n",
        "      else:\n",
        "        acimpar += num\n",
        "        k += 1\n",
        "        if k == 15:\n",
        "          print(\"Se han generado 15 números impares.\")\n",
        "          break\n",
        "      clear_output()\n",
        "    else:\n",
        "      print(\"Se han generado 25 números.\")\n",
        "\n",
        "    mediapar = acpar / j\n",
        "    mediaimpar = acimpar / k\n",
        "    print(f\"La media de números pares es {mediapar}\")\n",
        "    print(f\"La media de números impares es {mediaimpar}\")\n",
        "\n",
        "    input(\"Presione enter para continuar.\")\n",
        "    clear_output()\n",
        "\n",
        "  except ValueError:\n",
        "    print(\"Error. Solo números enteros.\")"
      ],
      "metadata": {
        "id": "4X4FHiF_g5SR"
      },
      "execution_count": 24,
      "outputs": []
    },
    {
      "cell_type": "code",
      "source": [
        "def numval():\n",
        "  try:\n",
        "    while True:\n",
        "      linf = int(input(f\"Dame el límite inferior del rango: \"))\n",
        "      lsup = int(input(f\"Dame el límite superior del rango: \"))\n",
        "      valida_num(linf,lsup)\n",
        "      break\n",
        "  except:\n",
        "    print(\"Dame números enteros\")\n",
        "\n",
        "def valida_num(linf, lsup):\n",
        "  try:\n",
        "    ac = 0\n",
        "    i = 0\n",
        "    print (\"Ingrese el número 0 para finalizar.\")\n",
        "    while True:\n",
        "      num = int(input(f\"Dame un número entre {linf} y {lsup}: \"))\n",
        "      if num == 0:\n",
        "        break\n",
        "\n",
        "      if num >= linf and num <= lsup:\n",
        "        print(f\"El número {num} está dentro del rango.\")\n",
        "      else:\n",
        "        continue\n",
        "      i += 1\n",
        "      ac += num\n",
        "\n",
        "    prom = ac / i\n",
        "    print(f\"Se ingresaron {i} números\")\n",
        "    print(f\"La media de los números es {prom}\")\n",
        "\n",
        "    input(\"Presione enter para continuar.\")\n",
        "    clear_output()\n",
        "\n",
        "  except ValueError:\n",
        "    print(\"Error. Solo números enteros.\")"
      ],
      "metadata": {
        "id": "bfejFikEy-RI"
      },
      "execution_count": 25,
      "outputs": []
    },
    {
      "cell_type": "code",
      "source": [
        "def medtri():\n",
        "  clear_output()\n",
        "  try:\n",
        "    base = float(input(\"Dame la medida de la base: \"))\n",
        "    if base < 0:\n",
        "      raise ValueError\n",
        "    alt = float(input(\"Dame la medida de la altura: \"))\n",
        "    if alt < 0:\n",
        "      raise ValueError\n",
        "    area = Areatri(base, alt)\n",
        "    print(f\"El area del triángulo es {area}\")\n",
        "\n",
        "    input(\"Presione enter para continuar.\")\n",
        "    clear_output()\n",
        "\n",
        "  except ValueError:\n",
        "    print(\"Error. Solo números positivos.\")\n",
        "\n",
        "def Areatri(bas, al):\n",
        "  area = (bas * al) / 2\n",
        "  return area"
      ],
      "metadata": {
        "id": "uK1tvdfAndDM"
      },
      "execution_count": 29,
      "outputs": []
    },
    {
      "cell_type": "code",
      "source": [
        "def calif():\n",
        "  try:\n",
        "    ac = 0\n",
        "    ac2 = 0\n",
        "    j = 0\n",
        "    for i in range(3):\n",
        "      calif1 = int(input(f\"Dame la calificación {i+1}: \"))\n",
        "      if calif1 < 0 or calif1 > 100:\n",
        "        raise ValueError\n",
        "        continue\n",
        "      ac += calif1\n",
        "      prom = ac / 3\n",
        "\n",
        "    if prom >= 60:\n",
        "      print(\"Felicidades! Pasaste al siguiente semestre.\")\n",
        "    else:\n",
        "      print(\"Repetir Materia\")\n",
        "      for i in range(2):\n",
        "        for j in range(3):\n",
        "          calif2 = int(input(f\"Dame la calificación {j+1} de tu oportunidad {i+2}:\"))\n",
        "          ac2 += calif2\n",
        "          if calif2 < 0 or calif2 > 100:\n",
        "            raise ValueError\n",
        "        prom2 = ac2 / 3\n",
        "        if calif2 >= 60:\n",
        "          print(\"Felicidades! Pasaste al siguiente semestre.\")\n",
        "          break\n",
        "        elif i == 1 and calif2 < 60:\n",
        "          print(\"Lástima. Estás fuera de la UABC.\")\n",
        "\n",
        "    input(\"Presione enter para continuar.\")\n",
        "    clear_output()\n",
        "\n",
        "  except ValueError:\n",
        "    print(\"Error. Solo se aceptan números, mayores a 0 y menores a 100.\")"
      ],
      "metadata": {
        "id": "KBGIi74lRpWu"
      },
      "execution_count": 27,
      "outputs": []
    }
  ]
}