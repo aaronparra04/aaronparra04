{
  "nbformat": 4,
  "nbformat_minor": 0,
  "metadata": {
    "colab": {
      "provenance": [],
      "authorship_tag": "ABX9TyNLMV4H1v25DlyWr/5QOvwH",
      "include_colab_link": true
    },
    "kernelspec": {
      "name": "python3",
      "display_name": "Python 3"
    },
    "language_info": {
      "name": "python"
    }
  },
  "cells": [
    {
      "cell_type": "markdown",
      "metadata": {
        "id": "view-in-github",
        "colab_type": "text"
      },
      "source": [
        "<a href=\"https://colab.research.google.com/github/aaronparra04/aaronparra04/blob/main/AAPV_PY_ANEXOS_9.ipynb\" target=\"_parent\"><img src=\"https://colab.research.google.com/assets/colab-badge.svg\" alt=\"Open In Colab\"/></a>"
      ]
    },
    {
      "cell_type": "markdown",
      "source": [
        "#**Aarón Alejandro Parra Velarde**\n",
        "## Actividad 9\n",
        "13/10/2023 - 19/10/2023"
      ],
      "metadata": {
        "id": "wpYZX1QVYMGm"
      }
    },
    {
      "cell_type": "markdown",
      "source": [
        "Realiza un programa en python que utilice el siguiente menu:"
      ],
      "metadata": {
        "id": "q6VfIzvUZTQ0"
      }
    },
    {
      "cell_type": "markdown",
      "source": [
        "CREAR DICCIONARIO: funcion que retorne un diccionario con los datos de basicos de un alumno, donde se pide {id,nombre (1 O 2) , appaterno,apmaterno, edad,sexo}, El diccionario se debe generar automaticmanete a partir de listas."
      ],
      "metadata": {
        "id": "ISKLJ1HbZej8"
      }
    },
    {
      "cell_type": "code",
      "execution_count": null,
      "metadata": {
        "id": "2PxZagiPqUlW"
      },
      "outputs": [],
      "source": [
        "def gendic():\n",
        "  apellido = [\"LOPEZ\",\"RUIZ\",\"GONZALEZ\",\"HERNANDEZ\",\"RAMIREZ\",\"GARCIA\",\"NUÑEZ\",\"OROZCO\",\"TAPIA\",\"PARRA\",\"REYES\",\"RODRIGUEZ\",\"FERNANDEZ\",\"VALENZUELA\",\"ALVARADO\",\"PEREZ\",\"MULLER\",\"DOMINGUEZ\",\"ESTRADA\",\"CASTILLO\"]\n",
        "  nhombre = [\"AARON\",\"ALEJANDRO\",\"ALBERTO\",\"JUAN\",\"PEDRO\",\"DAVID\",\"LUIS\",\"FERNANDO\",\"ESTEBAN\",\"RODOLFO\",\"RONALDO\",\"RODRIGO\",\"ANTONIO\",\"ANGEL\",\"MIGUEL\",\"DANIEL\",\"ARTURO\",\"CRISTIAN\",\"CARLOS\",\"FRANCISCO\"]\n",
        "  nmujer = [\"MARIANA\",\"DANIELA\",\"MARIA\",\"ALEJANDRA\",\"DARYA\",\"DIANA\",\"JIMENA\",\"KARINA\",\"FERNANDA\",\"SARA\",\"CAROLINA\",\"JULIA\",\"LAURA\",\"DANNA\",\"KARLA\",\"KSENIA\",\"ELENA\",\"GABRIELA\",\"SOFIA\",\"ALICIA\"]\n",
        "\n",
        "  dikt['id'] = random.randint(300000,399999)\n",
        "  dikt['APaterno'] = random.choice(apellido)\n",
        "  dikt['AMaterno'] = random.choice(apellido)\n",
        "\n",
        "  sx = random.randint(0,1)\n",
        "  nom = random.randint(1,100)\n",
        "  if sx == 1:\n",
        "    if nom % 2 == 0:\n",
        "      dikt['Nombre'] = random.choice(nhombre)\n",
        "    else:\n",
        "      dikt['Nombre'] = random.choices(nhombre,k = 2)\n",
        "    dikt['Sexo'] = 'H'\n",
        "  elif sx == 0:\n",
        "    if nom % 2 == 0:\n",
        "      dikt['Nombre'] = random.choice(nmujer)\n",
        "    else:\n",
        "      dikt['Nombre(s)'] = random.choices(nmujer,k = 2)\n",
        "    dikt['Sexo'] = 'M'\n",
        "\n",
        "  dikt['Edad'] = random.randint(10,60)\n",
        "\n",
        "  return dikt"
      ]
    },
    {
      "cell_type": "markdown",
      "source": [
        "IMPRIMIR DICCIONARIO:  Funcion que reciba como parametro el diccionario, y le de una salida mostrando la informacion en forma de registro que se genero con el diccionario."
      ],
      "metadata": {
        "id": "HcIMKVm-ZieS"
      }
    },
    {
      "cell_type": "code",
      "source": [
        "def imprdic(dikt):\n",
        "  for key in dikt:\n",
        "    print (key, \":\", dikt[key])\n",
        "  input()"
      ],
      "metadata": {
        "id": "uQHl6WO3vIr_"
      },
      "execution_count": null,
      "outputs": []
    },
    {
      "cell_type": "code",
      "source": [
        "import random\n",
        "from IPython.display import clear_output\n",
        "try:\n",
        "  dikt = {}\n",
        "  i = 0\n",
        "  while True:\n",
        "    clear_output()\n",
        "    print(\"1.-Llenar diccionario\")\n",
        "    print(\"2.-Imprimir diccionario\")\n",
        "    print(\"0.-Salir\")\n",
        "    opc = input(\"Escoge una opción: \")\n",
        "\n",
        "    if opc == '1':\n",
        "      dikt = gendic()\n",
        "    elif opc == '2':\n",
        "      clear_output()\n",
        "      imprdic(dikt)\n",
        "    elif opc == '0':\n",
        "      break\n",
        "    i += 1\n",
        "except ValueError:\n",
        "  print(\"Numeros solamente entre 0 y 2.\")"
      ],
      "metadata": {
        "id": "XGi14CgX78sh",
        "colab": {
          "base_uri": "https://localhost:8080/"
        },
        "outputId": "72395f52-d3f7-4d75-85f6-a3c8a62f849a"
      },
      "execution_count": null,
      "outputs": [
        {
          "name": "stdout",
          "output_type": "stream",
          "text": [
            "id : 344460\n",
            "APaterno : HERNANDEZ\n",
            "AMaterno : FERNANDEZ\n",
            "Nombre : JIMENA\n",
            "Sexo : M\n",
            "Edad : 51\n",
            "\n"
          ]
        }
      ]
    }
  ]
}