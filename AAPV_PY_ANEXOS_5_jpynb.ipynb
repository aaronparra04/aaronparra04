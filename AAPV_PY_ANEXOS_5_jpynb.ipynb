{
  "nbformat": 4,
  "nbformat_minor": 0,
  "metadata": {
    "colab": {
      "provenance": [],
      "authorship_tag": "ABX9TyPRbgC8kjA9tvHWESpdfLOV",
      "include_colab_link": true
    },
    "kernelspec": {
      "name": "python3",
      "display_name": "Python 3"
    },
    "language_info": {
      "name": "python"
    }
  },
  "cells": [
    {
      "cell_type": "markdown",
      "metadata": {
        "id": "view-in-github",
        "colab_type": "text"
      },
      "source": [
        "<a href=\"https://colab.research.google.com/github/aaronparra04/aaronparra04/blob/main/AAPV_PY_ANEXOS_5_jpynb.ipynb\" target=\"_parent\"><img src=\"https://colab.research.google.com/assets/colab-badge.svg\" alt=\"Open In Colab\"/></a>"
      ]
    },
    {
      "cell_type": "code",
      "execution_count": null,
      "metadata": {
        "id": "Nm4nTWnyI7Tk"
      },
      "outputs": [],
      "source": [
        "for i in range (10):\n",
        "  print (i)"
      ]
    },
    {
      "cell_type": "markdown",
      "source": [
        "#**Aarón Alejandro Parra Velarde**\n",
        "## Actividad 5\n",
        "11/09/2023 - 17/09/2023\n",
        "\n",
        "\n",
        "PVAA_A05_432"
      ],
      "metadata": {
        "id": "alzdk9D7JCLQ"
      }
    },
    {
      "cell_type": "markdown",
      "source": [
        "## **PARTE 1**"
      ],
      "metadata": {
        "id": "NEVGKl83YH_Q"
      }
    },
    {
      "cell_type": "markdown",
      "source": [
        "**1.- Programa en Python que genere 40 números aleatorios entre el 0 y 200.**"
      ],
      "metadata": {
        "id": "6HzQ7RrJL_V2"
      }
    },
    {
      "cell_type": "code",
      "source": [
        "import random\n",
        "\n",
        "j = 0\n",
        "k = 0\n",
        "acpar = 0\n",
        "acimpar = 0\n",
        "\n",
        "for i in range (40):\n",
        "  nrand = random.randint(0,200)\n",
        "  print(f\"{nrand}\")\n",
        "\n",
        "  if nrand % 2 == 0:\n",
        "    print (\"Es par.\")\n",
        "    j += 1\n",
        "    acpar += nrand\n",
        "  else:\n",
        "    print (\"Es impar.\")\n",
        "    k += 1\n",
        "    acimpar += nrand\n",
        "\n",
        "print(f\"Hay {j} números pares.\")\n",
        "print(f\"Hay {k} números pares.\")\n",
        "\n",
        "print(f\"La suma de números pares es {acpar}.\")\n",
        "print(f\"La suma de números impares es {acimpar}.\")\n",
        "\n"
      ],
      "metadata": {
        "id": "VIJAw9giL1b9"
      },
      "execution_count": null,
      "outputs": []
    },
    {
      "cell_type": "markdown",
      "source": [
        "**2.- Programa en Python que despliegue la tabla de multiplicar de un número dado (número entre el 1 y 20).**"
      ],
      "metadata": {
        "id": "uuty5I08P2Vm"
      }
    },
    {
      "cell_type": "code",
      "source": [
        "try:\n",
        "  num = int(input(\"Dame un numero entre el 1 y el 20: \"))\n",
        "  if num < 1 and num > 20:\n",
        "    raise ValueError\n",
        "\n",
        "except ValueError:\n",
        "  print (\"Error. Ingresa un número entre el 1 y el 20.\")\n",
        "\n",
        "else:\n",
        "  print(f\"La tabla del {num} es:\")\n",
        "  for i in range (10):\n",
        "    result = num * (i+1)\n",
        "    print(f\"{num} x {i+1} = {result}\")"
      ],
      "metadata": {
        "colab": {
          "base_uri": "https://localhost:8080/"
        },
        "id": "nRBvLoBlP9O2",
        "outputId": "ee0b8e8d-7e95-44ad-ff9c-53ef0378ba10"
      },
      "execution_count": null,
      "outputs": [
        {
          "output_type": "stream",
          "name": "stdout",
          "text": [
            "Dame un numero entre el 1 y el 20: 10\n",
            "La tabla del 10 es:\n",
            "10 x 1 = 10\n",
            "10 x 2 = 20\n",
            "10 x 3 = 30\n",
            "10 x 4 = 40\n",
            "10 x 5 = 50\n",
            "10 x 6 = 60\n",
            "10 x 7 = 70\n",
            "10 x 8 = 80\n",
            "10 x 9 = 90\n",
            "10 x 10 = 100\n"
          ]
        }
      ]
    },
    {
      "cell_type": "markdown",
      "source": [
        "**3.- Programa en Python que lea una calificación y despliegue aprobado o reprobado.**"
      ],
      "metadata": {
        "id": "bJaufx6ETlJF"
      }
    },
    {
      "cell_type": "code",
      "source": [
        "try:\n",
        "  calif = int(input(\"Dame la calificación: \"))\n",
        "  if calif < 0 or calif > 100:\n",
        "    raise ValueError\n",
        "\n",
        "except ValueError:\n",
        "  print(\"Error. Solo se aceptan números, mayores a 0 y menores a 100.\")\n",
        "\n",
        "else:\n",
        "  if calif >= 60:\n",
        "    print (\"APROBADO.\")\n",
        "  else:\n",
        "    print (\"REPROBADO.\")"
      ],
      "metadata": {
        "colab": {
          "base_uri": "https://localhost:8080/"
        },
        "id": "eLth0R8tTvMF",
        "outputId": "e37d50e0-f999-4185-bcc0-883657b9a2b4"
      },
      "execution_count": null,
      "outputs": [
        {
          "output_type": "stream",
          "name": "stdout",
          "text": [
            "Dame la calificación: 88\n",
            "APROBADO.\n"
          ]
        }
      ]
    },
    {
      "cell_type": "markdown",
      "source": [
        "**4.- Programa en Python que lea n cantidad de números enteros, el programa deberá terminar cuando el usuario introduzca el número cero.**"
      ],
      "metadata": {
        "id": "iAFt4J5SU5JV"
      }
    },
    {
      "cell_type": "code",
      "source": [
        "try:\n",
        "  ac = 0\n",
        "  n = int(input(\"¿Cuántos numeros quiere ingresar?: \"))\n",
        "  if n < 0:\n",
        "    raise ValueError\n",
        "\n",
        "except ValueError:\n",
        "  print(\"Error. Solo se aceptan números mayores a 0.\")\n",
        "\n",
        "else:\n",
        "  for i in range(n-1):\n",
        "    num = int(input(f\"Dame el número {i+1}: \"))\n",
        "    ac += num\n",
        "    if num == 0:\n",
        "      print(\"Saliendo...\")\n",
        "      break\n",
        "\n",
        "  prom = ac / i\n",
        "  print(f\"La suma de números dados es {ac}\")\n",
        "  print(f\"La media de números es {prom}\")"
      ],
      "metadata": {
        "colab": {
          "base_uri": "https://localhost:8080/"
        },
        "id": "92qBVlekVF69",
        "outputId": "89c6404b-c89b-4856-c29f-171523a4fabb"
      },
      "execution_count": null,
      "outputs": [
        {
          "output_type": "stream",
          "name": "stdout",
          "text": [
            "¿Cuántos numeros quiere ingresar?: 4\n",
            "Dame el número 1: 6\n",
            "Dame el número 2: 4\n",
            "Dame el número 3: 0\n",
            "Saliendo...\n",
            "La suma de números dados es 10\n",
            "La media de números es 5.0\n"
          ]
        }
      ]
    },
    {
      "cell_type": "markdown",
      "source": [
        "**5.- Programa en Python que sirva para leer el promedio de una materia.**"
      ],
      "metadata": {
        "id": "a7aWiuEMRJbR"
      }
    },
    {
      "cell_type": "code",
      "source": [
        "try:\n",
        "  calif = int(input(\"Dame la calificación final: \"))\n",
        "  if calif < 0 or calif > 100:\n",
        "    raise ValueError\n",
        "\n",
        "  if calif >= 60:\n",
        "    print(\"Felicidades! Pasaste al siguiente semestre.\")\n",
        "  else:\n",
        "    print(\"Repetir Materia\")\n",
        "    for i in range(2):\n",
        "      calif2 = int(input(f\"Dame la calificación de tu oportunidad {i+2}: \"))\n",
        "      if calif < 0 or calif > 100:\n",
        "        raise ValueError\n",
        "\n",
        "      if calif2 >= 60:\n",
        "        print(\"Felicidades! Pasaste al siguiente semestre.\")\n",
        "        break\n",
        "      elif i == 1 and calif2 < 60:\n",
        "          print(\"Baja Definitiva.\")\n",
        "\n",
        "except ValueError:\n",
        "  print(\"Error. Solo se aceptan números, mayores a 0 y menores a 100.\")\n"
      ],
      "metadata": {
        "colab": {
          "base_uri": "https://localhost:8080/"
        },
        "id": "FngDm6whRd2e",
        "outputId": "f04d7d10-a328-4607-e642-535d3ece1ecc"
      },
      "execution_count": null,
      "outputs": [
        {
          "output_type": "stream",
          "name": "stdout",
          "text": [
            "Dame la calificación final: 65\n",
            "Felicidades! Pasaste al siguiente semestre.\n"
          ]
        }
      ]
    },
    {
      "cell_type": "markdown",
      "source": [
        "## **PARTE 2**"
      ],
      "metadata": {
        "id": "OO4BgZI-YN-z"
      }
    },
    {
      "cell_type": "markdown",
      "source": [
        "**1.- función que lea n cantidad de números hasta que el usuario lo desee, desplegar la suma de los números, media y valor de los números mayores y menores.**"
      ],
      "metadata": {
        "id": "EcKnMdzkYSV3"
      }
    },
    {
      "cell_type": "code",
      "source": [
        "try:\n",
        "  def numeros():\n",
        "    mayor = 0\n",
        "    ac = 0\n",
        "    menor = 99999999\n",
        "\n",
        "    for i in range(n):\n",
        "      num = int(input(f\"Dame el número {i+1}: \"))\n",
        "      ac += num\n",
        "\n",
        "      if num > mayor:\n",
        "        mayor = num\n",
        "      elif num < menor:\n",
        "        menor = num\n",
        "\n",
        "    media = ac / n\n",
        "    print(f\"La suma de números dados es {ac}\")\n",
        "    print(f\"La media de números es {media}\")\n",
        "    print(f\"El número mayor es {mayor}\")\n",
        "    print(f\"El número menor es {menor}\")\n",
        "\n",
        "  n = int(input(\"¿Cuántos numeros quiere ingresar?: \"))\n",
        "  numeros()\n",
        "\n",
        "except ValueError:\n",
        "  print(\"Error. Solo números enteros.\")"
      ],
      "metadata": {
        "colab": {
          "base_uri": "https://localhost:8080/"
        },
        "id": "OKBwIQKLYaPq",
        "outputId": "86eb9037-d3db-4dea-8779-adcc4727336d"
      },
      "execution_count": null,
      "outputs": [
        {
          "output_type": "stream",
          "name": "stdout",
          "text": [
            "¿Cuántos numeros quiere ingresar?: 4\n",
            "Dame el número 1: 54\n",
            "Dame el número 2: 65\n",
            "Dame el número 3: 12\n",
            "Dame el número 4: 44\n",
            "La suma de números dados es 175\n",
            "La media de números es 43.75\n",
            "El número mayor es 65\n",
            "El número menor es 12\n"
          ]
        }
      ]
    },
    {
      "cell_type": "markdown",
      "source": [
        "**2.- función que genere 15 números impares entre 10 y 60 o máximo de 25 números. desplegar la media de los pares y media de impares.**"
      ],
      "metadata": {
        "id": "6kkppTP1g0VD"
      }
    },
    {
      "cell_type": "code",
      "source": [
        "try:\n",
        "  def nimpar():\n",
        "    j = 0\n",
        "    k = 0\n",
        "    acpar = 0\n",
        "    acimpar = 0\n",
        "\n",
        "    for i in range (25):\n",
        "      num = int(input(f\"Dame un numero entre 10 y 60: \"))\n",
        "      print(num)\n",
        "\n",
        "      if num < 10 or num > 60:\n",
        "        continue\n",
        "\n",
        "      if num % 2 == 0:\n",
        "        acpar += num\n",
        "        j += 1\n",
        "      else:\n",
        "        acimpar += num\n",
        "        k += 1\n",
        "\n",
        "      if k == 15:\n",
        "        print(\"Se han generado 15 números impares.\")\n",
        "        break\n",
        "\n",
        "    if i == 25:\n",
        "      print(\"Se han generado 25 números.\")\n",
        "\n",
        "    mediapar = acpar / j\n",
        "    mediaimpar = acimpar / k\n",
        "    print(f\"La media de números pares es {mediapar}\")\n",
        "    print(f\"La media de números impares es {mediaimpar}\")\n",
        "\n",
        "except ValueError:\n",
        "  print(\"Error. Solo números enteros.\")\n",
        "\n",
        "else:\n",
        "  nimpar()"
      ],
      "metadata": {
        "colab": {
          "base_uri": "https://localhost:8080/"
        },
        "id": "4X4FHiF_g5SR",
        "outputId": "94151179-269d-4c30-f6b9-8161e2b890dc"
      },
      "execution_count": null,
      "outputs": [
        {
          "output_type": "stream",
          "name": "stdout",
          "text": [
            "Dame un numero entre 10 y 60: 50\n",
            "50\n",
            "Dame un numero entre 10 y 60: 54\n",
            "54\n",
            "Dame un numero entre 10 y 60: 45\n",
            "45\n",
            "Dame un numero entre 10 y 60: 64\n",
            "64\n",
            "Dame un numero entre 10 y 60: 37\n",
            "37\n",
            "Dame un numero entre 10 y 60: 39\n",
            "39\n",
            "Dame un numero entre 10 y 60: 41\n",
            "41\n",
            "Dame un numero entre 10 y 60: 43\n",
            "43\n",
            "Dame un numero entre 10 y 60: 33\n",
            "33\n",
            "Dame un numero entre 10 y 60: 35\n",
            "35\n",
            "Dame un numero entre 10 y 60: 21\n",
            "21\n",
            "Dame un numero entre 10 y 60: 24\n",
            "24\n",
            "Dame un numero entre 10 y 60: 27\n",
            "27\n",
            "Dame un numero entre 10 y 60: 29\n",
            "29\n",
            "Dame un numero entre 10 y 60: 13\n",
            "13\n",
            "Dame un numero entre 10 y 60: 17\n",
            "17\n",
            "Dame un numero entre 10 y 60: 19\n",
            "19\n",
            "Dame un numero entre 10 y 60: 15\n",
            "15\n",
            "Dame un numero entre 10 y 60: 59\n",
            "59\n",
            "Se han generado 15 números impares.\n",
            "La media de números pares es 42.666666666666664\n",
            "La media de números impares es 31.533333333333335\n"
          ]
        }
      ]
    },
    {
      "cell_type": "markdown",
      "source": [
        "**3.- Función que sirva para leer y validar un número dentro de un rango dado por el usuario. Repetir esta acción hasta que el usuario lo desee.**"
      ],
      "metadata": {
        "id": "RzgDTNrmlTRS"
      }
    },
    {
      "cell_type": "code",
      "source": [
        "def numval(cadena):\n",
        "  try:\n",
        "    int(cadena)\n",
        "    return True\n",
        "  except ValueError:\n",
        "    return False\n",
        "\n",
        "\n",
        "try:\n",
        "  linf = int(input(f\"Dame el límite inferior del rango: \"))\n",
        "  lsup = int(input(f\"Dame el límite superior del rango: \"))\n",
        "  n = int(input(f\"Ingresa la cantidad de numeros a validar: \"))\n",
        "  ac = 0\n",
        "  for i in range(1,n+1):\n",
        "    num = int(input(f\"Dame un número entre {linf} y {lsup}: \"))\n",
        "    if num >= linf:\n",
        "      if num <= lsup:\n",
        "        print(f\"El número {num} está dentro del rango.\")\n",
        "        ac += num\n",
        "      else:\n",
        "        print(f\"El número {num} NO está dentro del rango.\")\n",
        "        continue\n",
        "    else:\n",
        "      print(f\"El número {num} NO está dentro del rango.\")\n",
        "      continue\n",
        "    if numval(n):\n",
        "      print(\"Numero Valido\")\n",
        "    else:\n",
        "      print(\"Numero no valido\")\n",
        "\n",
        "  prom = ac / i\n",
        "  print(f\"Se ingresaron {i} números\")\n",
        "  print(f\"La media de los números es {prom}\")\n",
        "except ValueError:\n",
        "  print(\"Error. Ingresa números reales.\")\n",
        "except:\n",
        "  print(\"Numero no validado\")\n",
        "  prom = ac / (i-1)\n",
        "  print(f\"La media de los números es {prom}\")"
      ],
      "metadata": {
        "colab": {
          "base_uri": "https://localhost:8080/"
        },
        "id": "bfejFikEy-RI",
        "outputId": "3a6d6df0-bffb-47ee-9e4f-ef0fef1670e9"
      },
      "execution_count": null,
      "outputs": [
        {
          "output_type": "stream",
          "name": "stdout",
          "text": [
            "Dame el límite inferior del rango: 20\n",
            "Dame el límite superior del rango: 60\n",
            "Ingresa la cantidad de numeros a validar: 5\n",
            "Dame un número entre 20 y 60: 34\n",
            "El número 34 está dentro del rango.\n",
            "Numero Valido\n",
            "Dame un número entre 20 y 60: 54\n",
            "El número 54 está dentro del rango.\n",
            "Numero Valido\n",
            "Dame un número entre 20 y 60: 23\n",
            "El número 23 está dentro del rango.\n",
            "Numero Valido\n",
            "Dame un número entre 20 y 60: 27\n",
            "El número 27 está dentro del rango.\n",
            "Numero Valido\n",
            "Dame un número entre 20 y 60: 45\n",
            "El número 45 está dentro del rango.\n",
            "Numero Valido\n",
            "Se ingresaron 5 números\n",
            "La media de los números es 36.6\n"
          ]
        }
      ]
    },
    {
      "cell_type": "markdown",
      "source": [
        "**4.- Función que reciba como parámetro los valores para el área de un triángulo y retorne su resultado.**"
      ],
      "metadata": {
        "id": "IycuFtZXnZC2"
      }
    },
    {
      "cell_type": "code",
      "source": [
        "try:\n",
        "  base = float(input(\"Dame la medida de la base: \"))\n",
        "  if base < 0:\n",
        "    raise ValueError\n",
        "  alt = float(input(\"Dame la medida de la base: \"))\n",
        "  if alt < 0:\n",
        "    raise ValueError\n",
        "\n",
        "except ValueError:\n",
        "  print(\"Error. Solo números positivos.\")\n",
        "\n",
        "else:\n",
        "  def Areatri(bas, al):\n",
        "    area = (bas * al) / 2\n",
        "    return area\n",
        "\n",
        "  area = Areatri(base,alt)\n",
        "\n",
        "  print(f\"El area del triángulo es {area}\")"
      ],
      "metadata": {
        "colab": {
          "base_uri": "https://localhost:8080/"
        },
        "id": "uK1tvdfAndDM",
        "outputId": "f7e04934-f3a6-4393-c3e9-6db9ca5410dc"
      },
      "execution_count": null,
      "outputs": [
        {
          "output_type": "stream",
          "name": "stdout",
          "text": [
            "Dame la medida de la base: 5\n",
            "Dame la medida de la base: 4\n",
            "El area del triángulo es 10.0\n"
          ]
        }
      ]
    },
    {
      "cell_type": "markdown",
      "source": [
        "**5.- función que sirva para validar un número dentro de un rango dado.**"
      ],
      "metadata": {
        "id": "p8BtMyK6O_oT"
      }
    },
    {
      "cell_type": "code",
      "source": [
        "try:\n",
        "  def nval ():\n",
        "    linf = int(input(f\"Dame el límite inferior del rango: \"))\n",
        "    lsup = int(input(f\"Dame el límite superior del rango: \"))\n",
        "\n",
        "    num = int(input(f\"Dame un número entre {linf} y {lsup}: \"))\n",
        "    if num >= linf:\n",
        "      if num <= lsup:\n",
        "        print(f\"El número {num} está dentro del rango.\")\n",
        "      else:\n",
        "        print(f\"El número {num} NO está dentro del rango.\")\n",
        "    else:\n",
        "      print(f\"El número {num} NO está dentro del rango.\")\n",
        "\n",
        "except:\n",
        "  print(\"Error. Ingresa números reales.\")\n",
        "\n",
        "else:\n",
        "  nval()"
      ],
      "metadata": {
        "colab": {
          "base_uri": "https://localhost:8080/"
        },
        "id": "Q29trIoYPE0q",
        "outputId": "506e212b-a6e7-4575-e9ff-20ea93bb4284"
      },
      "execution_count": null,
      "outputs": [
        {
          "output_type": "stream",
          "name": "stdout",
          "text": [
            "Dame el límite inferior del rango: 24\n",
            "Dame el límite inferior del rango: 46\n",
            "Dame un número: 35\n",
            "El número 35 está dentro del rango.\n"
          ]
        }
      ]
    }
  ]
}