{
  "nbformat": 4,
  "nbformat_minor": 0,
  "metadata": {
    "colab": {
      "provenance": [],
      "authorship_tag": "ABX9TyNOJdJPIWjTSUmXmswsXcy9",
      "include_colab_link": true
    },
    "kernelspec": {
      "name": "python3",
      "display_name": "Python 3"
    },
    "language_info": {
      "name": "python"
    }
  },
  "cells": [
    {
      "cell_type": "markdown",
      "metadata": {
        "id": "view-in-github",
        "colab_type": "text"
      },
      "source": [
        "<a href=\"https://colab.research.google.com/github/aaronparra04/aaronparra04/blob/main/AAPV_PY_exa1_2.ipynb\" target=\"_parent\"><img src=\"https://colab.research.google.com/assets/colab-badge.svg\" alt=\"Open In Colab\"/></a>"
      ]
    },
    {
      "cell_type": "code",
      "execution_count": 7,
      "metadata": {
        "id": "we6ySqLoG-aN"
      },
      "outputs": [],
      "source": [
        "def factorial(num,fact):\n",
        "  i = 1\n",
        "  while i <= num:\n",
        "    fact = fact * i\n",
        "    i+=1\n",
        "  print(f\"El factorial de {num} es {fact}\")"
      ]
    },
    {
      "cell_type": "code",
      "source": [
        "  try:\n",
        "    fact = 1\n",
        "    num = int(input(\"Dame un número: \"))\n",
        "  except:\n",
        "    print(\"Solo numeros\")\n",
        "  else:\n",
        "    factorial(num,fact)"
      ],
      "metadata": {
        "colab": {
          "base_uri": "https://localhost:8080/"
        },
        "id": "dOk2qU-eKAeG",
        "outputId": "479a1151-3b1d-4c38-dc4a-c12e020bf5b5"
      },
      "execution_count": 9,
      "outputs": [
        {
          "output_type": "stream",
          "name": "stdout",
          "text": [
            "Dame un número: 3\n",
            "El factorial de 3 es 6\n"
          ]
        }
      ]
    }
  ]
}