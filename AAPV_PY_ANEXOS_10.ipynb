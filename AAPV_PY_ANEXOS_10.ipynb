{
  "nbformat": 4,
  "nbformat_minor": 0,
  "metadata": {
    "colab": {
      "provenance": [],
      "authorship_tag": "ABX9TyMiDS8cylcjvEARmMi3QuUM",
      "include_colab_link": true
    },
    "kernelspec": {
      "name": "python3",
      "display_name": "Python 3"
    },
    "language_info": {
      "name": "python"
    }
  },
  "cells": [
    {
      "cell_type": "markdown",
      "metadata": {
        "id": "view-in-github",
        "colab_type": "text"
      },
      "source": [
        "<a href=\"https://colab.research.google.com/github/aaronparra04/aaronparra04/blob/main/AAPV_PY_ANEXOS_10.ipynb\" target=\"_parent\"><img src=\"https://colab.research.google.com/assets/colab-badge.svg\" alt=\"Open In Colab\"/></a>"
      ]
    },
    {
      "cell_type": "markdown",
      "source": [
        "#**Aarón Alejandro Parra Velarde**\n",
        "## Actividad 10\n",
        "25/10/2023 - 29/10/2023\n",
        "\n",
        "\n",
        "PVAA_A10_432"
      ],
      "metadata": {
        "id": "fTfaYYFM3E5o"
      }
    },
    {
      "cell_type": "markdown",
      "source": [
        "**REALIZA UN PROGRAMA QUE UTILICE UNA LISTA DE DICCIONARIOS**"
      ],
      "metadata": {
        "id": "5R76yvZ03YV5"
      }
    },
    {
      "cell_type": "code",
      "source": [
        "def genauto(lista):\n",
        "  dikt = {}\n",
        "  apellido = [\"LOPEZ\",\"RUIZ\",\"GONZALEZ\",\"HERNANDEZ\",\"RAMIREZ\",\"GARCIA\",\"NUÑEZ\",\"OROZCO\",\"TAPIA\",\"PARRA\",\"REYES\",\"RODRIGUEZ\",\"FERNANDEZ\",\"VALENZUELA\",\"ALVARADO\",\"PEREZ\",\"MULLER\",\"DOMINGUEZ\",\"ESTRADA\",\"CASTILLO\"]\n",
        "  nhombre = [\"AARON\",\"ALEJANDRO\",\"ALBERTO\",\"JUAN\",\"PEDRO\",\"DAVID\",\"LUIS\",\"FERNANDO\",\"ESTEBAN\",\"RODOLFO\",\"RONALDO\",\"RODRIGO\",\"ANTONIO\",\"ANGEL\",\"MIGUEL\",\"DANIEL\",\"ARTURO\",\"CRISTIAN\",\"CARLOS\",\"FRANCISCO\"]\n",
        "  nmujer = [\"MARIANA\",\"DANIELA\",\"MARIA\",\"ALEJANDRA\",\"DARYA\",\"DIANA\",\"JIMENA\",\"KARINA\",\"FERNANDA\",\"SARA\",\"CAROLINA\",\"JULIA\",\"LAURA\",\"DANNA\",\"KARLA\",\"KSENIA\",\"ELENA\",\"GABRIELA\",\"SOFIA\",\"ALICIA\"]\n",
        "\n",
        "  dikt['id'] = random.randint(30000,39999)\n",
        "  dikt['APaterno'] = random.choice(apellido)\n",
        "  dikt['AMaterno'] = random.choice(apellido)\n",
        "\n",
        "  sx = random.randint(0,1)\n",
        "  nom = random.randint(1,100)\n",
        "  if sx == 1:\n",
        "    if nom % 2 == 0:\n",
        "      dikt['Nombre'] = random.choice(nhombre)\n",
        "    else:\n",
        "      nm = numpy.random.choice(nhombre,2,False)\n",
        "      dikt['Nombre'] = tuple(nm)\n",
        "    dikt['Sexo'] = 'H'\n",
        "  elif sx == 0:\n",
        "    if nom % 2 == 0:\n",
        "      dikt['Nombre'] = random.choice(nmujer)\n",
        "    else:\n",
        "      nm = numpy.random.choice(nmujer,2,False)\n",
        "      dikt['Nombre'] = tuple(nm)\n",
        "    dikt['Sexo'] = 'M'\n",
        "\n",
        "  dikt['Edad'] = random.randint(18,60)\n",
        "\n",
        "  lista.append(dikt)\n",
        "  return lista"
      ],
      "metadata": {
        "id": "-yMP7khYZF9E"
      },
      "execution_count": 37,
      "outputs": []
    },
    {
      "cell_type": "code",
      "source": [
        "def genman(lista):\n",
        "  try:\n",
        "    dikt = {}\n",
        "    id = int(input(\"Ingrese su ID:\"))\n",
        "    if id < 30000 or id > 39999:\n",
        "      raise TypeError\n",
        "    dikt['id'] = id\n",
        "    dikt['APaterno'] = input(\"Apellido Paterno:\")\n",
        "    dikt['AMaterno'] = input(\"Apellido Materno:\")\n",
        "    dikt['Nombre'] = input(\"Nombre(s)\")\n",
        "    sx = int(input(\"Sexo (1.-Hombre , 0.-Mujer):\"))\n",
        "    if sx < 0 and sx > 1:\n",
        "      raise TypeError\n",
        "    if sx == 1:\n",
        "      dikt['Sexo'] = 'H'\n",
        "    else:\n",
        "      dikt['Sexo'] = 'M'\n",
        "\n",
        "    dikt['Edad'] = int(input(\"Edad:\"))\n",
        "\n",
        "  except TypeError:\n",
        "    print(\"Numero fuera del rango\")\n",
        "  except ValueError:\n",
        "    print(\"Solo números enteros.\")\n",
        "\n",
        "  else:\n",
        "    lista.append(dikt)\n",
        "    return lista"
      ],
      "metadata": {
        "id": "CwQOghOhfVA6"
      },
      "execution_count": 2,
      "outputs": []
    },
    {
      "cell_type": "code",
      "source": [
        "def imprdic(lista):\n",
        "  z = random.randint(1,3)\n",
        "  if z == 1:\n",
        "    outp = pd.DataFrame(lista)\n",
        "    print(outp)\n",
        "  elif z == 2:\n",
        "    pprint.pprint(lista)\n",
        "  elif z == 3:\n",
        "    print(json.dumps(lista, indent=4))"
      ],
      "metadata": {
        "id": "QM0Tzdvkd7cK"
      },
      "execution_count": 58,
      "outputs": []
    },
    {
      "cell_type": "code",
      "source": [
        "def search(lista):\n",
        "  try:\n",
        "    id = int(input(\"Ingrese un ID a buscar:\"))\n",
        "  except:\n",
        "    print(\"Ingresa números enteros.\")\n",
        "  else:\n",
        "    for dikt in lista:\n",
        "      if dikt['id'] == id:\n",
        "        print(f\"El id {id} se encuentra en la lista\")\n",
        "        break\n",
        "    else:\n",
        "      print(f\"El id no se encuentra en la lista\")"
      ],
      "metadata": {
        "id": "j4O_WfHemXEX"
      },
      "execution_count": 4,
      "outputs": []
    },
    {
      "cell_type": "code",
      "source": [
        "def ordena(lista):\n",
        "  if lista == sorted(lista, key=lambda i: i['id']):\n",
        "    print(\"La lista ya está ordenada.\")\n",
        "    input(\"\")\n",
        "  else:\n",
        "    lista = sorted(lista, key=lambda i: i['id'])\n",
        "  return lista"
      ],
      "metadata": {
        "id": "2n76zxWSqdNg"
      },
      "execution_count": 51,
      "outputs": []
    },
    {
      "cell_type": "code",
      "source": [
        "def elim(lista):\n",
        "  try:\n",
        "    lista2 = []\n",
        "    id = int(input(\"Ingrese un ID a eliminar:\"))\n",
        "    for dikt in lista:\n",
        "      if dikt['id'] == id:\n",
        "        print(f\"Se eliminará el id {id} de la lista.\")\n",
        "        ex = int(input(\"Seguro que quiere eliminar? 1.-Si,0.-No\"))\n",
        "        if ex == 1:\n",
        "          pass\n",
        "        elif ex == 0:\n",
        "          lista2.append(dikt)\n",
        "      elif dikt['id'] != id:\n",
        "        lista2.append(dikt)\n",
        "    return lista2\n",
        "  except ValueError:\n",
        "    print(\"Ingresa números enteros.\")"
      ],
      "metadata": {
        "id": "AOHv0EIQsV_e"
      },
      "execution_count": 19,
      "outputs": []
    },
    {
      "cell_type": "code",
      "source": [
        "def xlista(lista):\n",
        "  ex = input(\"Seguro que quiere eliminar TODA la lista? 1.-Si,2.-No\")\n",
        "  if ex == '1':\n",
        "    lista.clear()\n",
        "    print(\"Lista vacía.\")\n",
        "    input(\"\")\n",
        "    return lista"
      ],
      "metadata": {
        "id": "DULwGJeouWLN"
      },
      "execution_count": 54,
      "outputs": []
    },
    {
      "cell_type": "code",
      "execution_count": 57,
      "metadata": {
        "id": "xNAPtvv0VtPh",
        "colab": {
          "base_uri": "https://localhost:8080/",
          "height": 0
        },
        "outputId": "2905149a-2e37-480f-a8cc-e6cdcf88653c"
      },
      "outputs": [
        {
          "name": "stdout",
          "output_type": "stream",
          "text": [
            "1.-Llenar diccionario (automático)\n",
            "2.-Llenar diccionario (manual)\n",
            "3.-Imprimir diccionario\n",
            "4.-Buscar un elemento\n",
            "5.-Ordenar la lista\n",
            "6.-Eliminar un solo elemento\n",
            "7.-Eliminar toda la lista\n",
            "0.-Salir\n",
            "Escoge una opción: 0\n"
          ]
        }
      ],
      "source": [
        "import random\n",
        "from IPython.display import clear_output\n",
        "import pandas as pd\n",
        "import pprint\n",
        "import json\n",
        "import numpy\n",
        "try:\n",
        "  lista = []\n",
        "  i = 0\n",
        "  while True:\n",
        "    clear_output()\n",
        "    print(\"1.-Llenar diccionario (automático)\")\n",
        "    print(\"2.-Llenar diccionario (manual)\")\n",
        "    print(\"3.-Imprimir diccionario\")\n",
        "    print(\"4.-Buscar un elemento\")\n",
        "    print(\"5.-Ordenar la lista\")\n",
        "    print(\"6.-Eliminar un solo elemento\")\n",
        "    print(\"7.-Eliminar toda la lista\")\n",
        "    print(\"0.-Salir\")\n",
        "    opc = input(\"Escoge una opción: \")\n",
        "\n",
        "    if opc == '1':\n",
        "      lista = genauto(lista)\n",
        "      i += 1\n",
        "    elif opc == '2':\n",
        "      lista = genman(lista)\n",
        "    elif opc == '3':\n",
        "      clear_output()\n",
        "      imprdic(lista)\n",
        "      input(\"\")\n",
        "    elif opc == '4':\n",
        "      clear_output()\n",
        "      search(lista)\n",
        "      input(\"\")\n",
        "    elif opc == '5':\n",
        "      clear_output()\n",
        "      lista = ordena(lista)\n",
        "    elif opc == '6':\n",
        "      clear_output()\n",
        "      lista = elim(lista)\n",
        "    elif opc == '7':\n",
        "      clear_output()\n",
        "      lista = xlista(lista)\n",
        "    elif opc == '0':\n",
        "      break\n",
        "except ValueError:\n",
        "  print(\"Numeros solamente entre 0 y 7.\")"
      ]
    }
  ]
}