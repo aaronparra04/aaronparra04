{
  "nbformat": 4,
  "nbformat_minor": 0,
  "metadata": {
    "colab": {
      "provenance": [],
      "authorship_tag": "ABX9TyOw3NViSHTCI+FCEwDwxlhJ",
      "include_colab_link": true
    },
    "kernelspec": {
      "name": "python3",
      "display_name": "Python 3"
    },
    "language_info": {
      "name": "python"
    }
  },
  "cells": [
    {
      "cell_type": "markdown",
      "metadata": {
        "id": "view-in-github",
        "colab_type": "text"
      },
      "source": [
        "<a href=\"https://colab.research.google.com/github/aaronparra04/aaronparra04/blob/main/AAPV_PY_ANEXOS_7.ipynb\" target=\"_parent\"><img src=\"https://colab.research.google.com/assets/colab-badge.svg\" alt=\"Open In Colab\"/></a>"
      ]
    },
    {
      "cell_type": "markdown",
      "source": [
        "#**Aarón Alejandro Parra Velarde**\n",
        "## Actividad 7\n",
        "25/09/2023 - 04/10/2023"
      ],
      "metadata": {
        "id": "S0L3MRjUNPTV"
      }
    },
    {
      "cell_type": "markdown",
      "source": [
        "**1.- Función que utilice una lista con los nombres de tus mascotas, o artistas favoritos, (minimo 5, maximo 10) imprimir las cadenas y la cantidad de caracteres de cada cadena.**"
      ],
      "metadata": {
        "id": "j0d2IaeeOZGX"
      }
    },
    {
      "cell_type": "code",
      "execution_count": 3,
      "metadata": {
        "colab": {
          "base_uri": "https://localhost:8080/",
          "height": 0
        },
        "id": "EapzcFeDNMFk",
        "outputId": "25cc7770-405c-4bc9-96ce-637ecbfed263"
      },
      "outputs": [
        {
          "output_type": "stream",
          "name": "stdout",
          "text": [
            "Para finalizar, escriba '0' \n",
            "Dame un nombre de mascota o de un famoso: Coco\n",
            "Dame un nombre de mascota o de un famoso: Chiquita\n",
            "Dame un nombre de mascota o de un famoso: Lucas\n",
            "Dame un nombre de mascota o de un famoso: Canelo\n",
            "Dame un nombre de mascota o de un famoso: 0\n",
            "Minimo 5 nombres, máximo 10.\n",
            "Dame un nombre de mascota o de un famoso: Zeus\n",
            "Dame un nombre de mascota o de un famoso: Ronaldo\n",
            "Dame un nombre de mascota o de un famoso: 0\n",
            " [1]Coco --> 4 CARACTERES\n",
            " [2]Chiquita --> 8 CARACTERES\n",
            " [3]Lucas --> 5 CARACTERES\n",
            " [4]Canelo --> 6 CARACTERES\n",
            " [5]Zeus --> 4 CARACTERES\n",
            " [6]Ronaldo --> 7 CARACTERES\n"
          ]
        }
      ],
      "source": [
        "def nombres():\n",
        "  try:\n",
        "    nom = []\n",
        "    i = 0\n",
        "    j = 0\n",
        "\n",
        "    print(\"Para finalizar, escriba '0' \")\n",
        "    for i in range(10):\n",
        "      nombre = str(input(\"Dame un nombre de mascota o de un famoso: \"))\n",
        "      if nombre != '0':\n",
        "        nom.append(nombre)\n",
        "      else:\n",
        "        if i < 5:\n",
        "          print(\"Minimo 5 nombres, máximo 10.\")\n",
        "          continue\n",
        "        elif i >= 5:\n",
        "          break\n",
        "\n",
        "  except:\n",
        "    print(\"Nombre no válido\")\n",
        "\n",
        "  else:\n",
        "    for cadena in nom:\n",
        "      print (f\" {[j+1]}{cadena} --> {len(cadena)} CARACTERES\")\n",
        "      j=j+1\n",
        "\n",
        "nombres()"
      ]
    },
    {
      "cell_type": "markdown",
      "source": [
        "**2.- Programa que utilice 2 funciones:**\n",
        "\n",
        "**Función que genere y regrese una lista con 10 números aleatorios entre el 30 y 50 (no repetidos).**\n",
        "\n",
        "**Función que reciba una lista , Imprimir la lista (Indice y Valor )**"
      ],
      "metadata": {
        "id": "2UDlWT5eVDB0"
      }
    },
    {
      "cell_type": "code",
      "source": [
        "import random\n",
        "def listarand():\n",
        "  try:\n",
        "    lista = []\n",
        "\n",
        "    while len(lista) < 10:\n",
        "      num = random.randint(30,50)\n",
        "      if num not in lista:\n",
        "        lista.append(num)\n",
        "\n",
        "  except:\n",
        "    print(\"En la lista hay 2 números iguales.\")\n",
        "\n",
        "  else:\n",
        "    return lista"
      ],
      "metadata": {
        "id": "EeBBdJK9VJXV"
      },
      "execution_count": null,
      "outputs": []
    },
    {
      "cell_type": "code",
      "source": [
        "def imprlista(lista):\n",
        "  try:\n",
        "    for i in range(10):\n",
        "      r = isinstance(lista[i], int)\n",
        "      if r is False:\n",
        "        break\n",
        "  except:\n",
        "    print(\"\")\n",
        "  else:\n",
        "    for i, elem in enumerate(lista):\n",
        "      print (f\" {[i+1]} --> {elem}\")\n",
        "\n",
        "z = listarand()\n",
        "imprlista(z)"
      ],
      "metadata": {
        "colab": {
          "base_uri": "https://localhost:8080/"
        },
        "id": "woVywlaMdc9o",
        "outputId": "c968d1ef-3a24-496a-c451-80e619503f07"
      },
      "execution_count": null,
      "outputs": [
        {
          "output_type": "stream",
          "name": "stdout",
          "text": [
            " [1] --> 50\n",
            " [2] --> 45\n",
            " [3] --> 38\n",
            " [4] --> 35\n",
            " [5] --> 42\n",
            " [6] --> 46\n",
            " [7] --> 32\n",
            " [8] --> 49\n",
            " [9] --> 40\n",
            " [10] --> 44\n"
          ]
        }
      ]
    },
    {
      "cell_type": "markdown",
      "source": [
        "**3.- Escribe una función que reciba dos listas de números del mismo tamaño y calcule la suma de los elementos correspondientes de cada lista.**"
      ],
      "metadata": {
        "id": "i3UnYz19b6G1"
      }
    },
    {
      "cell_type": "code",
      "source": [
        "def listasnum():\n",
        "  try:\n",
        "    lista1 = []\n",
        "    lista2 = []\n",
        "    lista3 = []\n",
        "\n",
        "    t = int(input(\"Tamaño de las listas: \"))\n",
        "    print(\"Presione 0 para salir.\")\n",
        "\n",
        "    for i in range(t):\n",
        "      num1 = int(input(f\"Dame el el numero {i+1} de la lista 1: \"))\n",
        "      if num1 == 0:\n",
        "        tam1 = len(lista1)\n",
        "        break\n",
        "      lista1.append(num1)\n",
        "    else:\n",
        "      tam1 = i\n",
        "\n",
        "    for j in range(t):\n",
        "      num2 = int(input(f\"Dame el el numero {j+1} de la lista 2: \"))\n",
        "      if num2 == 0:\n",
        "        tam2 = len(lista2)\n",
        "        break\n",
        "      lista2.append(num2)\n",
        "    else:\n",
        "      tam2 = j\n",
        "\n",
        "    if tam1 < tam2:\n",
        "      tam3 = tam1\n",
        "    else:\n",
        "      tam3 = tam2\n",
        "\n",
        "  except:\n",
        "    print (\"Ingresa solo números enteros.\")\n",
        "  else:\n",
        "    i = 0\n",
        "    j = 0\n",
        "    for k in range(tam3):\n",
        "      lista3.append(lista1[i] + lista2[j])\n",
        "      i += 1\n",
        "      j += 1\n",
        "\n",
        "    print(lista3)\n",
        "\n",
        "listasnum()"
      ],
      "metadata": {
        "id": "bD4XAgMHcB5H",
        "colab": {
          "base_uri": "https://localhost:8080/"
        },
        "outputId": "ac2a6af1-d581-4797-a50e-1fce82bb5ab0"
      },
      "execution_count": null,
      "outputs": [
        {
          "output_type": "stream",
          "name": "stdout",
          "text": [
            "Tamaño de las listas: 5\n",
            "Dame el el numero 1 de la lista 1: 2\n",
            "Dame el el numero 2 de la lista 1: 4\n",
            "Dame el el numero 3 de la lista 1: 6\n",
            "Dame el el numero 4 de la lista 1: 8\n",
            "Dame el el numero 5 de la lista 1: 0\n",
            "Dame el el numero 1 de la lista 2: 2\n",
            "Dame el el numero 2 de la lista 2: 4\n",
            "Dame el el numero 3 de la lista 2: 6\n",
            "Dame el el numero 4 de la lista 2: 8\n",
            "Dame el el numero 5 de la lista 2: 10\n",
            "[4, 8, 12, 16]\n"
          ]
        }
      ]
    },
    {
      "cell_type": "markdown",
      "source": [
        "**4.- Escribe una función llamada eliminar_duplicados que reciba una lista como parámetro y elimine los elementos duplicados. El resultado debe ser una nueva lista sin duplicados.**"
      ],
      "metadata": {
        "id": "1VqWZDvdrFYA"
      }
    },
    {
      "cell_type": "code",
      "source": [
        "def eliminar_duplicados(liszta):\n",
        "    dup = set(liszta)\n",
        "    lista2 = list(dup)\n",
        "    print(lista2)"
      ],
      "metadata": {
        "id": "6oQw_o6K0C_7"
      },
      "execution_count": null,
      "outputs": []
    },
    {
      "cell_type": "code",
      "source": [
        "try:\n",
        "  liszta = []\n",
        "  i = 0\n",
        "\n",
        "  print (\"Presiona 0 para salir. \")\n",
        "  while True:\n",
        "    num = int(input(\"Ingresa un número: \"))\n",
        "    if num == 0:\n",
        "      break\n",
        "    liszta.append(num)\n",
        "    i += 1\n",
        "\n",
        "except:\n",
        "  print (\"Ingresa números enteros. \")\n",
        "\n",
        "else:\n",
        "  eliminar_duplicados(liszta)"
      ],
      "metadata": {
        "colab": {
          "base_uri": "https://localhost:8080/"
        },
        "id": "I_LaY3GwsNCi",
        "outputId": "6bedbda4-466b-4d63-8ab0-d77e30392a95"
      },
      "execution_count": null,
      "outputs": [
        {
          "output_type": "stream",
          "name": "stdout",
          "text": [
            "Presiona 0 para salir. \n",
            "Ingresa un número: 2\n",
            "Ingresa un número: 6\n",
            "Ingresa un número: 7\n",
            "Ingresa un número: 14\n",
            "Ingresa un número: 12\n",
            "Ingresa un número: 2\n",
            "Ingresa un número: 4\n",
            "Ingresa un número: 4\n",
            "Ingresa un número: 4\n",
            "Ingresa un número: 8\n",
            "Ingresa un número: 0\n",
            "[2, 4, 6, 7, 8, 12, 14]\n"
          ]
        }
      ]
    },
    {
      "cell_type": "markdown",
      "source": [
        "**5.- Escribe una función que calcule la media y la mediana de una lista de números enteros.**"
      ],
      "metadata": {
        "id": "AhC3MFN-3s1u"
      }
    },
    {
      "cell_type": "code",
      "source": [
        "def promdiana():\n",
        "  try:\n",
        "    listb = []\n",
        "    i = 0\n",
        "    ac = 0\n",
        "\n",
        "    print (\"Presiona 0 para salir. \")\n",
        "    while True:\n",
        "      num = int(input(\"Ingresa un número: \"))\n",
        "      if num == 0:\n",
        "        break\n",
        "      listb.append(num)\n",
        "      ac += num\n",
        "      i += 1\n",
        "    t = len(listb)\n",
        "  except ValueError:\n",
        "    print (\"Ingresa números enteros. \")\n",
        "\n",
        "  else:\n",
        "    prom = ac / i\n",
        "    print(f\"El promedio de la lista es: {prom}\")\n",
        "\n",
        "    listb.sort()\n",
        "    if t % 2 != 0:\n",
        "      mediana = listb[t//2]\n",
        "    else:\n",
        "      mediana = ((listb[t//2]) + (listb[(t//2)-1])) / 2\n",
        "\n",
        "    print (f\"La mediana de la lista es: {mediana}\")\n",
        "\n",
        "promdiana()"
      ],
      "metadata": {
        "colab": {
          "base_uri": "https://localhost:8080/"
        },
        "id": "vMuOsNMR30j7",
        "outputId": "586d5c41-bbb3-47da-b47d-cd24477c5831"
      },
      "execution_count": null,
      "outputs": [
        {
          "output_type": "stream",
          "name": "stdout",
          "text": [
            "Presiona 0 para salir. \n",
            "Ingresa un número: 1\n",
            "Ingresa un número: 5\n",
            "Ingresa un número: 8\n",
            "Ingresa un número: 3\n",
            "Ingresa un número: 0\n",
            "El promedio de la lista es: 4.25\n",
            "La mediana de la lista es: 4.0\n"
          ]
        }
      ]
    }
  ]
}