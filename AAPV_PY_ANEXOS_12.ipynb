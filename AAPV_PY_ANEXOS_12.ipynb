{
  "nbformat": 4,
  "nbformat_minor": 0,
  "metadata": {
    "colab": {
      "provenance": [],
      "authorship_tag": "ABX9TyMobtBcXkp4L30cj7YJE7YM",
      "include_colab_link": true
    },
    "kernelspec": {
      "name": "python3",
      "display_name": "Python 3"
    },
    "language_info": {
      "name": "python"
    }
  },
  "cells": [
    {
      "cell_type": "markdown",
      "metadata": {
        "id": "view-in-github",
        "colab_type": "text"
      },
      "source": [
        "<a href=\"https://colab.research.google.com/github/aaronparra04/aaronparra04/blob/main/AAPV_PY_ANEXOS_12.ipynb\" target=\"_parent\"><img src=\"https://colab.research.google.com/assets/colab-badge.svg\" alt=\"Open In Colab\"/></a>"
      ]
    },
    {
      "cell_type": "markdown",
      "source": [
        "#**Aarón Alejandro Parra Velarde**\n",
        "## Actividad 12\n",
        "05/11/2023 - 08/11/2023\n",
        "\n",
        "\n",
        "PVAA_A12_432"
      ],
      "metadata": {
        "id": "TROFzdxef4PQ"
      }
    },
    {
      "cell_type": "code",
      "execution_count": 2,
      "metadata": {
        "id": "KJNmWSu2fylE",
        "colab": {
          "base_uri": "https://localhost:8080/",
          "height": 0
        },
        "outputId": "01b2f4f0-653b-46e9-ebda-fb5bd4af3d46"
      },
      "outputs": [
        {
          "output_type": "stream",
          "name": "stdout",
          "text": [
            "Requirement already satisfied: pyyaml in /usr/local/lib/python3.10/dist-packages (6.0.1)\n"
          ]
        }
      ],
      "source": [
        "!pip install pyyaml"
      ]
    },
    {
      "cell_type": "code",
      "source": [
        "import random\n",
        "from IPython.display import clear_output\n",
        "import pandas as pd\n",
        "import yaml\n",
        "import json\n",
        "import numpy\n",
        "import time\n",
        "from google.colab import drive\n",
        "drive.mount('/content/drive')"
      ],
      "metadata": {
        "id": "LQOH6XBf-R4T",
        "colab": {
          "base_uri": "https://localhost:8080/",
          "height": 0
        },
        "outputId": "963a74de-0a46-4196-a919-210584b38b92"
      },
      "execution_count": 3,
      "outputs": [
        {
          "output_type": "stream",
          "name": "stdout",
          "text": [
            "Mounted at /content/drive\n"
          ]
        }
      ]
    },
    {
      "cell_type": "code",
      "source": [
        "ruta=\"/content/drive/MyDrive/proyecto\"\n",
        "import sys\n",
        "sys.path.append(ruta)\n",
        "import os"
      ],
      "metadata": {
        "id": "y6ZsuEGK-63T"
      },
      "execution_count": 4,
      "outputs": []
    },
    {
      "cell_type": "code",
      "source": [
        "def genauto(lista):\n",
        "  dikt = {}\n",
        "  apellido = [\"Lopez\",\"Ruiz\",\"González\",\"Hernández\",\"Ramírez\",\"García\",\"Nuñez\",\"Orozco\",\"Tapia\",\"Parra\",\"Reyes\",\"Rodríguez\",\"Fernández\",\"Valenzuela\",\"Alvarado\",\"Pérez\",\"Muller\",\"Domínguez\",\"Estrada\",\"Castillo\"]\n",
        "  nhombre = [\"Aarón\",\"Alejandro\",\"Alberto\",\"Juan\",\"Pedro\",\"David\",\"Luis\",\"Fernando\",\"Eesteban\",\"Rodolfo\",\"Ronaldo\",\"Rodrigo\",\"Antonio\",\"Angel\",\"Miguel\",\"Daniel\",\"Arturo\",\"Cristian\",\"Carlos\",\"Francisco\"]\n",
        "  nmujer = [\"Mariana\",\"Daniela\",\"María\",\"Alejandra\",\"Darya\",\"Diana\",\"Jimena\",\"Karina\",\"Fernanda\",\"Sara\",\"Carolina\",\"Julia\",\"Laura\",\"Danna\",\"Karla\",\"Ksenia\",\"Elena\",\"Gabriela\",\"Sofía\",\"Alicia\"]\n",
        "  puesto = [\"Supervisor\",\"Encargado(a)\",\"Conserje\",\"Gerente\",\"Guardia\",\"Empleado Gral.\",\"Jefe\"]\n",
        "\n",
        "  dikt['id'] = random.randint(1,1000)\n",
        "  dikt['APaterno'] = random.choice(apellido)\n",
        "  dikt['AMaterno'] = random.choice(apellido)\n",
        "\n",
        "  sx = random.randint(0,1)\n",
        "  nom = random.randint(1,100)\n",
        "  if sx == 1:\n",
        "    if nom % 2 == 0:\n",
        "      dikt['Nombre'] = random.choice(nhombre)\n",
        "    else:\n",
        "      nm = numpy.random.choice(nhombre,2,False)\n",
        "      dikt['Nombre'] = tuple(nm)\n",
        "    dikt['Sexo'] = 'Hombre'\n",
        "  elif sx == 0:\n",
        "    if nom % 2 == 0:\n",
        "      dikt['Nombre'] = random.choice(nmujer)\n",
        "    else:\n",
        "      nm = numpy.random.choice(nmujer,2,False)\n",
        "      dikt['Nombre'] = tuple(nm)\n",
        "    dikt['Sexo'] = 'Mujer'\n",
        "\n",
        "  dikt['Puesto'] = random.choice(puesto)\n",
        "  lista.append(dikt)\n",
        "  return lista"
      ],
      "metadata": {
        "id": "z0RkMRn0_mcq"
      },
      "execution_count": 5,
      "outputs": []
    },
    {
      "cell_type": "code",
      "source": [
        "def elim(lista):\n",
        "  try:\n",
        "    lista2 = []\n",
        "    id = int(input(\"Ingrese un ID a eliminar:\"))\n",
        "    for dikt in lista:\n",
        "      if dikt['id'] == id:\n",
        "        print(f\"Se eliminará el id {id} de la lista.\")\n",
        "        ex = int(input(\"Seguro que quiere eliminar? 1.-Si,0.-No\"))\n",
        "        if ex == 1:\n",
        "          pass\n",
        "        elif ex == 0:\n",
        "          lista2.append(dikt)\n",
        "      elif dikt['id'] != id:\n",
        "        lista2.append(dikt)\n",
        "    return lista2\n",
        "  except ValueError:\n",
        "    print(\"Ingresa números enteros.\")"
      ],
      "metadata": {
        "id": "oVZdHs1X_-Vb"
      },
      "execution_count": 6,
      "outputs": []
    },
    {
      "cell_type": "code",
      "source": [
        "def imprdic(lista):\n",
        "    outp = pd.DataFrame(lista)\n",
        "    print(outp)"
      ],
      "metadata": {
        "id": "fYX26s5lATOs"
      },
      "execution_count": 7,
      "outputs": []
    },
    {
      "cell_type": "code",
      "source": [
        "def search(lista):\n",
        "  try:\n",
        "    id = int(input(\"Ingrese un ID a buscar:\"))\n",
        "  except:\n",
        "    print(\"Ingresa números enteros.\")\n",
        "  else:\n",
        "    for dikt in lista:\n",
        "      if dikt['id'] == id:\n",
        "        print(f\"El id {id} se encuentra en la lista\")\n",
        "        break\n",
        "    else:\n",
        "      print(f\"El id no se encuentra en la lista\")"
      ],
      "metadata": {
        "id": "jI4wHsHip8ZS"
      },
      "execution_count": 8,
      "outputs": []
    },
    {
      "cell_type": "code",
      "source": [
        "def ordena(lista):\n",
        "  if lista == sorted(lista, key=lambda i: i['id']):\n",
        "    print(\"La lista ya está ordenada.\")\n",
        "    input(\"\")\n",
        "  else:\n",
        "    lista = sorted(lista, key=lambda i: i['id'])\n",
        "  return lista"
      ],
      "metadata": {
        "id": "WSyoFdD2u_zZ"
      },
      "execution_count": 9,
      "outputs": []
    },
    {
      "cell_type": "code",
      "source": [
        "def xlista(lista):\n",
        "  ex = input(\"Seguro que quiere eliminar TODA la lista? 1.-Si,2.-No\")\n",
        "  if ex == '1':\n",
        "    lista.clear()\n",
        "    print(\"Lista vacía.\")\n",
        "    input(\"\")\n",
        "    return lista"
      ],
      "metadata": {
        "id": "h4cRMXVdu3p-"
      },
      "execution_count": 11,
      "outputs": []
    },
    {
      "cell_type": "code",
      "source": [
        "def coincid(lista):\n",
        "  try:\n",
        "    j = 0\n",
        "    ape = input(\"Ingrese un apellido:\")\n",
        "  except:\n",
        "    print(\"Ingresa números enteros.\")\n",
        "  else:\n",
        "    for dikt in lista:\n",
        "      if dikt['APaterno'] == ape:\n",
        "        j = j+1\n",
        "    else:\n",
        "      if j > 0:\n",
        "        print(f\"El apellido {ape} se encuentra en la lista {j} veces\")\n",
        "      else:\n",
        "        print(f\"El apellido no se encuentra en la lista\")"
      ],
      "metadata": {
        "id": "PRtHL7_gw9--"
      },
      "execution_count": 12,
      "outputs": []
    },
    {
      "cell_type": "code",
      "source": [
        "def gendoc(lista):\n",
        "  try:\n",
        "    ruta=\"/content/drive/MyDrive/proyecto\"\n",
        "    print(\"1.-Excel(.xlsx)\")\n",
        "    print(\"2.-Documento de texto(.txt)\")\n",
        "    print(\"3.-MarkDown(.md)\")\n",
        "    print(\"4.-CSV(.csv)\")\n",
        "    tipo = int(input(\"Elige un tipo de documento para convertir:\"))\n",
        "    if tipo < 1 and tipo > 4:\n",
        "      raise ValueError\n",
        "  except ValueError:\n",
        "    print(\"Solo números enteros entre el 1 y el 4\")\n",
        "  else:\n",
        "    name = input(\"Nombre del archivo (sin tipo de archivo):\")\n",
        "    if tipo == 1:\n",
        "      filexc = name + \".xlsx\"\n",
        "      with open(os.path.join(ruta, filexc), \"w\") as file:\n",
        "        return filexc\n",
        "    elif tipo == 2:\n",
        "      filetxt = name + \".txt\"\n",
        "      with open(os.path.join(ruta, filetxt), \"w\") as file:\n",
        "        return filetxt\n",
        "\n",
        "    elif tipo == 3:\n",
        "      filemd = name + \".md\"\n",
        "      with open(os.path.join(ruta, filemd), \"w\") as file:\n",
        "        return filemd\n",
        "\n",
        "    elif tipo == 4:\n",
        "      filecsv = name + \".csv\"\n",
        "      with open(os.path.join(ruta, filecsv), \"w\") as file:\n",
        "        return filecsv"
      ],
      "metadata": {
        "id": "C5-CH-S5yZrT"
      },
      "execution_count": 29,
      "outputs": []
    },
    {
      "cell_type": "code",
      "source": [
        "def cargar(lista,name):\n",
        "  try:\n",
        "    ruta=\"/content/drive/MyDrive/proyecto\"\n",
        "    print(\"1.- Excel\")\n",
        "    print(\"2.- Txt\")\n",
        "    print(\"3.- MarkDown\")\n",
        "    print(\"4.- CSV\")\n",
        "    f = int(input(\"Tipo de archivo cargado:\"))\n",
        "    if f < 1 and f > 4:\n",
        "        raise ValueError\n",
        "  except ValueError:\n",
        "      print(\"Solo números enteros entre el 1 y el 4\")\n",
        "  else:\n",
        "    if f == 1:\n",
        "      dataexc = pd.DataFrame(lista)\n",
        "      dataexc.to_excel(f'/content/drive/MyDrive/proyecto/{name}', index=False)\n",
        "      return dataexc\n",
        "\n",
        "    elif f == 2:\n",
        "      datatxt = pd.DataFrame(lista)\n",
        "      with open(os.path.join(ruta, name), \"w\") as file:\n",
        "        file.write(str(datatxt))\n",
        "      return datatxt\n",
        "\n",
        "    elif f == 3:\n",
        "      datamd = pd.DataFrame(lista)\n",
        "      datamd.to_markdown(f'/content/drive/MyDrive/proyecto/{name}', index=False)\n",
        "      return datamd\n",
        "\n",
        "    elif f == 4:\n",
        "      datacsv = pd.DataFrame(lista)\n",
        "      datacsv.to_csv(f'/content/drive/MyDrive/proyecto/{name}', index=False)\n",
        "      return datacsv\n"
      ],
      "metadata": {
        "id": "xIYZHJFNVNTD"
      },
      "execution_count": 30,
      "outputs": []
    },
    {
      "cell_type": "code",
      "source": [
        "def impdoc(lista,dat):\n",
        "  print(dat)"
      ],
      "metadata": {
        "id": "0PEzef4TTzMJ"
      },
      "execution_count": 27,
      "outputs": []
    },
    {
      "cell_type": "code",
      "execution_count": 39,
      "metadata": {
        "id": "xNAPtvv0VtPh",
        "colab": {
          "base_uri": "https://localhost:8080/",
          "height": 0
        },
        "outputId": "0f94c671-cf0e-4e31-a7d5-08507d481fbe"
      },
      "outputs": [
        {
          "name": "stdout",
          "output_type": "stream",
          "text": [
            "1.-Llenar lista (automático)\n",
            "2.-Eliminar un solo elemento\n",
            "3.-Imprimir lista\n",
            "4.-Buscar un elemento\n",
            "5.-Buscar coincidencias en el apellido\n",
            "6.-Ordenar la lista\n",
            "7.-Generar archivo\n",
            "8.-Cargar archivo\n",
            "9.-Imprimir archivo\n",
            "10.-Eliminar toda la lista\n",
            "0.-Salir\n",
            "Escoge una opción: 0\n"
          ]
        }
      ],
      "source": [
        "try:\n",
        "  lista = []\n",
        "  i = 0\n",
        "  while True:\n",
        "    clear_output()\n",
        "    print(\"1.-Llenar lista (automático)\")\n",
        "    print(\"2.-Eliminar un solo elemento\")\n",
        "    print(\"3.-Imprimir lista\")\n",
        "    print(\"4.-Buscar un elemento\")\n",
        "    print(\"5.-Buscar coincidencias en el apellido\")\n",
        "    print(\"6.-Ordenar la lista\")\n",
        "    print(\"7.-Generar archivo\")\n",
        "    print(\"8.-Cargar archivo\")\n",
        "    print(\"9.-Imprimir archivo\")\n",
        "    print(\"10.-Eliminar toda la lista\")\n",
        "    print(\"0.-Salir\")\n",
        "    opc = input(\"Escoge una opción: \")\n",
        "\n",
        "    if opc == '1':\n",
        "      for i in range(10):\n",
        "        lista = genauto(lista)\n",
        "        i += 1\n",
        "    elif opc == '2':\n",
        "      clear_output()\n",
        "      lista = elim(lista)\n",
        "    elif opc == '3':\n",
        "      clear_output()\n",
        "      imprdic(lista)\n",
        "      input(\"\")\n",
        "    elif opc == '4':\n",
        "      clear_output()\n",
        "      search(lista)\n",
        "      input(\"\")\n",
        "    elif opc == '5':\n",
        "      clear_output()\n",
        "      coincid(lista)\n",
        "      input(\"\")\n",
        "    elif opc == '6':\n",
        "      clear_output()\n",
        "      lista = ordena(lista)\n",
        "    elif opc == '7':\n",
        "      clear_output()\n",
        "      name = gendoc(lista)\n",
        "      print(\"Archivo generado\")\n",
        "      input(\"\")\n",
        "    elif opc == '8':\n",
        "      clear_output()\n",
        "      dat = cargar(lista,name)\n",
        "      print(\"Datos cargados al archivo\")\n",
        "      input(\"\")\n",
        "    elif opc == '9':\n",
        "      clear_output()\n",
        "      impdoc(lista,dat)\n",
        "      input(\"\")\n",
        "    elif opc == '10':\n",
        "      clear_output()\n",
        "      lista = xlista(lista)\n",
        "    elif opc == '0':\n",
        "      break\n",
        "except ValueError:\n",
        "  print(\"Numeros solamente entre 0 y 10.\")"
      ]
    }
  ]
}