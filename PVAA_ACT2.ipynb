{
  "nbformat": 4,
  "nbformat_minor": 0,
  "metadata": {
    "colab": {
      "provenance": [],
      "authorship_tag": "ABX9TyNkifmdVJQ52/27oHQ2f0TJ",
      "include_colab_link": true
    },
    "kernelspec": {
      "name": "python3",
      "display_name": "Python 3"
    },
    "language_info": {
      "name": "python"
    }
  },
  "cells": [
    {
      "cell_type": "markdown",
      "metadata": {
        "id": "view-in-github",
        "colab_type": "text"
      },
      "source": [
        "<a href=\"https://colab.research.google.com/github/aaronparra04/aaronparra04/blob/main/PVAA_ACT2.ipynb\" target=\"_parent\"><img src=\"https://colab.research.google.com/assets/colab-badge.svg\" alt=\"Open In Colab\"/></a>"
      ]
    },
    {
      "cell_type": "markdown",
      "source": [
        "#**Aarón Alejandro Parra Velarde**\n",
        "20/08/2023 - 21/08/2023\n",
        "\n",
        "PVAA_A02_432"
      ],
      "metadata": {
        "id": "gR8_7nhXabuE"
      }
    },
    {
      "cell_type": "markdown",
      "source": [
        "**1.- Programa en Python que lea 2 números enteros, usar una condición y analizar los dos números y desplegar cual de los números es el mayor.**\n",
        "\n",
        "***Condición Simple***"
      ],
      "metadata": {
        "id": "9-YKyk5Fa4gq"
      }
    },
    {
      "cell_type": "code",
      "source": [
        "num1 = int(input(\"Dame el primer número: \"))\n",
        "num2 = int(input(\"Dame el segundo número: \"))\n",
        "\n",
        "if num1 > num2:\n",
        "  print(f\"El número mayor es: {num1}\")\n",
        "else:\n",
        "  if num2 > num1:\n",
        "    print(f\"El número mayor es: {num2}\")\n",
        "  else:\n",
        "    print(\"Ambos números son iguales\")"
      ],
      "metadata": {
        "colab": {
          "base_uri": "https://localhost:8080/",
          "height": 0
        },
        "id": "hzm5WfK7bB7P",
        "outputId": "6962d451-5e9a-4776-abc6-1f3811655371"
      },
      "execution_count": 2,
      "outputs": [
        {
          "output_type": "stream",
          "name": "stdout",
          "text": [
            "Dame el primer número: 12\n",
            "Dame el segundo número: 10\n",
            "El número mayor es: 12\n"
          ]
        }
      ]
    },
    {
      "cell_type": "markdown",
      "source": [
        "***Condición Compuesta***"
      ],
      "metadata": {
        "id": "uojvjgOKl5bA"
      }
    },
    {
      "cell_type": "code",
      "source": [
        "num1 = int(input(\"Dame el primer número: \"))\n",
        "num2 = int(input(\"Dame el segundo número: \"))\n",
        "\n",
        "if num1 > num2 and num2 < num1:\n",
        "  print(f\"El número mayor es: {num1}\")\n",
        "else:\n",
        "  if num2 > num1 and num1 < num2:\n",
        "    print(f\"El número mayor es: {num2}\")\n",
        "  else:\n",
        "    print(\"Ambos números son iguales\")"
      ],
      "metadata": {
        "colab": {
          "base_uri": "https://localhost:8080/",
          "height": 0
        },
        "id": "AyQMXrQMmHnx",
        "outputId": "b63d411c-6283-4743-ea64-d3048f19b53b"
      },
      "execution_count": 16,
      "outputs": [
        {
          "output_type": "stream",
          "name": "stdout",
          "text": [
            "Dame el primer número: 6\n",
            "Dame el segundo número: 8\n",
            "El número mayor es: 8\n"
          ]
        }
      ]
    },
    {
      "cell_type": "markdown",
      "source": [
        "**2.- Programa en Python que lea 4 calificaciones de un alumno, calcular y desplegar el promedio acompañado de la leyenda \"APROBADO\" o \"REPROBADO\"**\n",
        "\n",
        "***Condición Simple***"
      ],
      "metadata": {
        "id": "6IdrCMzTcybB"
      }
    },
    {
      "cell_type": "code",
      "source": [
        "calif1 = float(input(\"Dame la primer calificación: \"))\n",
        "calif2 = float(input(\"Dame la segunda calificación: \"))\n",
        "calif3 = float(input(\"Dame la tercer calificación: \"))\n",
        "calif4 = float(input(\"Dame la cuarta calificación: \"))\n",
        "\n",
        "prom = (calif1 + calif2 + calif3 + calif4) / 4\n",
        "\n",
        "if prom >= 60:\n",
        "  print(f\"APROBADO. Promedio: {prom}\")\n",
        "else:\n",
        "  print(f\"REPROBADO. Promedio: {prom}\")"
      ],
      "metadata": {
        "colab": {
          "base_uri": "https://localhost:8080/",
          "height": 0
        },
        "id": "UK3hllSXdFRu",
        "outputId": "252647bb-323d-42e2-82a2-7a5c5ba9ca63"
      },
      "execution_count": 4,
      "outputs": [
        {
          "output_type": "stream",
          "name": "stdout",
          "text": [
            "Dame la primer calificación: 85\n",
            "Dame la segunda calificación: 89\n",
            "Dame la tercer calificación: 92\n",
            "Dame la cuarta calificación: 76\n",
            "APROBADO. Promedio: 85.5\n"
          ]
        }
      ]
    },
    {
      "cell_type": "markdown",
      "source": [
        "***Condición Compuesta***"
      ],
      "metadata": {
        "id": "uvbbGm1xm4UA"
      }
    },
    {
      "cell_type": "code",
      "source": [
        "calif1 = float(input(\"Dame la primer calificación: \"))\n",
        "calif2 = float(input(\"Dame la segunda calificación: \"))\n",
        "calif3 = float(input(\"Dame la tercer calificación: \"))\n",
        "calif4 = float(input(\"Dame la cuarta calificación: \"))\n",
        "\n",
        "prom = (calif1 + calif2 + calif3 + calif4) / 4\n",
        "\n",
        "if prom > 0 and prom < 60:\n",
        "  print(f\"REPROBADO. Promedio: {prom}\")\n",
        "else:\n",
        "  if prom >= 60 and prom <= 100:\n",
        "    print(f\"APROBADO. Promedio: {prom}\")\n",
        "  else:\n",
        "    print(\"Error en el promedio\")"
      ],
      "metadata": {
        "colab": {
          "base_uri": "https://localhost:8080/",
          "height": 0
        },
        "id": "NW1EW5U2m8nL",
        "outputId": "1ae82a08-a369-4778-ce54-765dcd0aa8d7"
      },
      "execution_count": 24,
      "outputs": [
        {
          "output_type": "stream",
          "name": "stdout",
          "text": [
            "Dame la primer calificación: 80\n",
            "Dame la segunda calificación: 92\n",
            "Dame la tercer calificación: 74\n",
            "Dame la cuarta calificación: 66\n",
            "APROBADO. Promedio: 78.0\n"
          ]
        }
      ]
    },
    {
      "cell_type": "markdown",
      "source": [
        "**3.- Programa en PythonAlgoritmo que a través de opciones pregunta al usuario cual es su sexo y desplegar la leyenda “HOMBRE ”, “MUJER”**\n",
        "\n",
        "***Condición Simple***"
      ],
      "metadata": {
        "id": "SJT2Zrfid1_z"
      }
    },
    {
      "cell_type": "code",
      "source": [
        "opc = int(input(\"Sexo: (1 = Hombre , 2 = Mujer) \"))\n",
        "\n",
        "if opc == 1:\n",
        "  print(\"HOMBRE\")\n",
        "else:\n",
        "  if opc == 2:\n",
        "    print(\"MUJER\")\n",
        "  else:\n",
        "    print(\"Error. Inténtelo de nuevo\")"
      ],
      "metadata": {
        "colab": {
          "base_uri": "https://localhost:8080/",
          "height": 0
        },
        "id": "GXJ9qhtQeCL8",
        "outputId": "0114dc2c-77d3-4ffd-da58-a1a28670c33c"
      },
      "execution_count": 7,
      "outputs": [
        {
          "output_type": "stream",
          "name": "stdout",
          "text": [
            "Sexo: (1 = Hombre , 2 = Mujer) 1\n",
            "HOMBRE\n"
          ]
        }
      ]
    },
    {
      "cell_type": "markdown",
      "source": [
        "***Condición Compuesta***"
      ],
      "metadata": {
        "id": "fUewiqpkpQ9e"
      }
    },
    {
      "cell_type": "code",
      "source": [
        "opc = int(input(\"Sexo: (1 = Hombre , 2 = Mujer) \"))\n",
        "\n",
        "if opc == 1 and opc != 2:\n",
        "  print(\"HOMBRE\")\n",
        "else:\n",
        "  if opc == 2 and opc != 1:\n",
        "    print(\"MUJER\")\n",
        "  else:\n",
        "    print(\"Error. Inténtelo de nuevo\")"
      ],
      "metadata": {
        "colab": {
          "base_uri": "https://localhost:8080/",
          "height": 0
        },
        "id": "07vrw5aQpUJC",
        "outputId": "c93abfe8-7a95-4444-8750-9d280c8d2891"
      },
      "execution_count": 29,
      "outputs": [
        {
          "output_type": "stream",
          "name": "stdout",
          "text": [
            "Sexo: (1 = Hombre , 2 = Mujer) 1\n",
            "HOMBRE\n"
          ]
        }
      ]
    },
    {
      "cell_type": "markdown",
      "source": [
        "**4.- Programa en Python que lea un número entero, y desplegar si el número es “PAR” o “IMPAR”.**\n",
        "\n",
        "***Condición Simple***"
      ],
      "metadata": {
        "id": "Te4_nBSYj3Mz"
      }
    },
    {
      "cell_type": "code",
      "source": [
        "nro = int(input(\"Dame un número: \"))\n",
        "\n",
        "if nro % 2 == 0:\n",
        "  print(f\"El número {nro} es par.\")\n",
        "else:\n",
        "    print(f\"El número {nro} es impar.\")"
      ],
      "metadata": {
        "colab": {
          "base_uri": "https://localhost:8080/",
          "height": 0
        },
        "id": "_yC0XP5Mj8V8",
        "outputId": "0fd6c27c-2023-4429-fb1d-52e0c1c85a91"
      },
      "execution_count": 14,
      "outputs": [
        {
          "output_type": "stream",
          "name": "stdout",
          "text": [
            "Dame un número: 82\n",
            "El número 82 es par.\n"
          ]
        }
      ]
    },
    {
      "cell_type": "markdown",
      "source": [
        "***Condición Compuesta***"
      ],
      "metadata": {
        "id": "r7xJ_YNopxCV"
      }
    },
    {
      "cell_type": "code",
      "source": [
        "nro = int(input(\"Dame un número: \"))\n",
        "\n",
        "if nro % 2 == 0 and nro / 1 == nro:\n",
        "  print(f\"El número {nro} es par.\")\n",
        "else:\n",
        "    print(f\"El número {nro} es impar.\")"
      ],
      "metadata": {
        "colab": {
          "base_uri": "https://localhost:8080/",
          "height": 0
        },
        "id": "I6CX5SI5pzJp",
        "outputId": "a3c0d349-8d71-44c3-d34b-f6155c01b2da"
      },
      "execution_count": 30,
      "outputs": [
        {
          "output_type": "stream",
          "name": "stdout",
          "text": [
            "Dame un número: 86\n",
            "El número 86 es par.\n"
          ]
        }
      ]
    }
  ]
}