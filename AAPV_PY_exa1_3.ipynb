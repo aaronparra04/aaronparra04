{
  "nbformat": 4,
  "nbformat_minor": 0,
  "metadata": {
    "colab": {
      "provenance": [],
      "authorship_tag": "ABX9TyO+4I8jVnZIYi8Rb6G6R2Qw",
      "include_colab_link": true
    },
    "kernelspec": {
      "name": "python3",
      "display_name": "Python 3"
    },
    "language_info": {
      "name": "python"
    }
  },
  "cells": [
    {
      "cell_type": "markdown",
      "metadata": {
        "id": "view-in-github",
        "colab_type": "text"
      },
      "source": [
        "<a href=\"https://colab.research.google.com/github/aaronparra04/aaronparra04/blob/main/AAPV_PY_exa1_3.ipynb\" target=\"_parent\"><img src=\"https://colab.research.google.com/assets/colab-badge.svg\" alt=\"Open In Colab\"/></a>"
      ]
    },
    {
      "cell_type": "code",
      "execution_count": 17,
      "metadata": {
        "id": "we6ySqLoG-aN"
      },
      "outputs": [],
      "source": [
        "def areatri(base,altura):\n",
        "  area = (base * altura) / 2\n",
        "  print(f\"El area del triángulo es {area} u2\")"
      ]
    },
    {
      "cell_type": "code",
      "source": [
        "  try:\n",
        "    base = float(input(\"Medida de la base del triángulo: \"))\n",
        "    altura = float(input(\"Medida de la altura del triángulo: \"))\n",
        "  except:\n",
        "    print(\"Solo numeros, no caracteres\")\n",
        "  else:\n",
        "    areatri(base,altura)"
      ],
      "metadata": {
        "colab": {
          "base_uri": "https://localhost:8080/"
        },
        "id": "dOk2qU-eKAeG",
        "outputId": "391a95d1-fb52-408b-f2b4-f26c68a7cb38"
      },
      "execution_count": 18,
      "outputs": [
        {
          "output_type": "stream",
          "name": "stdout",
          "text": [
            "Medida de la base del triángulo: 4\n",
            "Medida de la altura del triángulo: 8\n",
            "El area del triángulo es 16.0 u2\n"
          ]
        }
      ]
    }
  ]
}