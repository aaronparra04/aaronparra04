{
  "nbformat": 4,
  "nbformat_minor": 0,
  "metadata": {
    "colab": {
      "provenance": [],
      "authorship_tag": "ABX9TyM7RPNNvK/mf5qHjMwjHWkZ",
      "include_colab_link": true
    },
    "kernelspec": {
      "name": "python3",
      "display_name": "Python 3"
    },
    "language_info": {
      "name": "python"
    }
  },
  "cells": [
    {
      "cell_type": "markdown",
      "metadata": {
        "id": "view-in-github",
        "colab_type": "text"
      },
      "source": [
        "<a href=\"https://colab.research.google.com/github/aaronparra04/aaronparra04/blob/main/PVAA_PY_ACT4.ipynb\" target=\"_parent\"><img src=\"https://colab.research.google.com/assets/colab-badge.svg\" alt=\"Open In Colab\"/></a>"
      ]
    },
    {
      "cell_type": "markdown",
      "source": [
        "#**Aarón Alejandro Parra Velarde**\n",
        "## Actividad 4\n",
        "04/09/2023 - 08/09/2023\n",
        "\n",
        "\n",
        "PVAA_A04_432"
      ],
      "metadata": {
        "id": "zTWZrfY0d4ZE"
      }
    },
    {
      "cell_type": "markdown",
      "source": [
        "**1.- Programa que lee 3 calificaciones y calcule el promedio de un alumno.**"
      ],
      "metadata": {
        "id": "KyFnWZJLR66y"
      }
    },
    {
      "cell_type": "code",
      "execution_count": null,
      "metadata": {
        "colab": {
          "base_uri": "https://localhost:8080/"
        },
        "id": "oJWp4172Gnxm",
        "outputId": "6ffef104-ac64-41e3-ea32-bcf23de3459d"
      },
      "outputs": [
        {
          "output_type": "stream",
          "name": "stdout",
          "text": [
            "Dame la primer calificación: hjd\n",
            "Error. Solo se aceptan números, mayores a 0 y menores a 100.\n"
          ]
        }
      ],
      "source": [
        "try:\n",
        "  calif1 = int(input(\"Dame la primer calificación: \"))\n",
        "  if calif1 < 0 or calif1 > 100:\n",
        "    raise ValueError\n",
        "  calif2 = int(input(\"Dame la segunda calificación: \"))\n",
        "  if calif2 < 0 or calif2 > 100:\n",
        "    raise ValueError\n",
        "  calif3 = int(input(\"Dame la tercer calificación: \"))\n",
        "  if calif3 < 0 or calif3 > 100:\n",
        "    raise ValueError\n",
        "\n",
        "except ValueError:\n",
        "  print(\"Error. Solo se aceptan números, mayores a 0 y menores a 100.\")\n",
        "else:\n",
        "  prom = (calif1 + calif2 + calif3) / 3\n",
        "  if prom < 30:\n",
        "    print(f\"Repetir. Promedio:{prom}\")\n",
        "  elif prom < 60:\n",
        "    print(f\"Extraordinario. Promedio:{prom}\")\n",
        "  elif prom < 70:\n",
        "    print(f\"Suficiente. Promedio:{prom}\")\n",
        "  elif prom < 80:\n",
        "    print(f\"Regular. Promedio:{prom}\")\n",
        "  elif prom < 90:\n",
        "    print(f\"Bien. Promedio:{prom}\")\n",
        "  elif prom < 98:\n",
        "    print(f\"Muy Bien. Promedio:{prom}\")\n",
        "  elif prom <= 100:\n",
        "    print(f\"Excelente. Promedio: {prom}\")"
      ]
    },
    {
      "cell_type": "markdown",
      "source": [
        "**2- Algoritmo que sirva para calcular el salario semanal de un trabajador.**"
      ],
      "metadata": {
        "id": "WSeKzhIkQ6_D"
      }
    },
    {
      "cell_type": "code",
      "source": [
        "try:\n",
        "  htrab = int(input(\"Número de horas trabajadas en la semana: \"))\n",
        "  salhora = int(input(\"Sueldo por hora: $\"))\n",
        "\n",
        "except:\n",
        "  print(\"Error. Solo puede ingresar números enteros.\")\n",
        "\n",
        "else:\n",
        "  if htrab <= 40:\n",
        "    snormal = salhora * htrab\n",
        "    stotal = snormal\n",
        "  elif htrab < 50:\n",
        "    snormal = salhora * 40\n",
        "    extra = (salhora * 2) * (htrab - 40)\n",
        "    stotal = snormal + extra\n",
        "  else:\n",
        "    snormal = salhora * 40\n",
        "    extra = (salhora * 2) * 9 + (salhora * 3) * (htrab + 1 - 50)\n",
        "    stotal = snormal + extra\n",
        "\n",
        "    print(f\"Salario normal: ${snormal}\")\n",
        "    print(f\"Salario extra: ${extra}\")\n",
        "    print(f\"Salario total: ${stotal}\")"
      ],
      "metadata": {
        "colab": {
          "base_uri": "https://localhost:8080/"
        },
        "id": "BX75j4moRDRM",
        "outputId": "bf3073f9-3e4e-4838-8f56-1ccac4b7add7"
      },
      "execution_count": null,
      "outputs": [
        {
          "output_type": "stream",
          "name": "stdout",
          "text": [
            "Número de horas trabajadas en la semana: bkgfjbdj\n",
            "Error. Solo puede ingresar números enteros.\n"
          ]
        }
      ]
    },
    {
      "cell_type": "markdown",
      "source": [
        "**3- Algoritmo que sirva para calcular el Total a pagar por consumo de agua.**"
      ],
      "metadata": {
        "id": "QQFyTDmvRr9a"
      }
    },
    {
      "cell_type": "code",
      "source": [
        "try:\n",
        "  m3 = int(input(\"Ingrese los metros cúbicos de agua consumidos: \"))\n",
        "\n",
        "except:\n",
        "  print(\"Error. Solo se aceptan números enteros.\")\n",
        "\n",
        "else:\n",
        "  if m3 <= 4:\n",
        "    total = 50\n",
        "    subt = total / (1.16)\n",
        "    iva = total - subt\n",
        "  elif m3 <= 15:\n",
        "    total = 8 * m3\n",
        "    subt = total / (1.16)\n",
        "    iva = total - subt\n",
        "  elif m3 <= 50:\n",
        "    total = 10 * m3\n",
        "    subt = total / (1.16)\n",
        "    iva = total - subt\n",
        "  else:\n",
        "    total = 11 * m3\n",
        "    subt = total / (1.16)\n",
        "    iva = total - subt\n",
        "\n",
        "    print(f\"Subtotal: ${round(subt,2)}\")\n",
        "    print(f\"IVA: ${round(iva,2)}\")\n",
        "    print(f\"Total: ${total}\")"
      ],
      "metadata": {
        "colab": {
          "base_uri": "https://localhost:8080/"
        },
        "id": "nhnRG9CRR2cZ",
        "outputId": "8e2172a9-d44e-4734-da21-7c1aae9ec65b"
      },
      "execution_count": null,
      "outputs": [
        {
          "output_type": "stream",
          "name": "stdout",
          "text": [
            "Ingrese los metros cúbicos de agua consumidos: tgdf\n",
            "Error. Solo se aceptan números enteros.\n"
          ]
        }
      ]
    },
    {
      "cell_type": "markdown",
      "source": [
        " **4- Calcular el promedio final de la materia de Metodología de la Programación donde la calificación menor de los exámenes se anula y el promedio se calcula en base a 4 exámenes.**"
      ],
      "metadata": {
        "id": "t8jEbLBb9Bz0"
      }
    },
    {
      "cell_type": "code",
      "source": [
        "try:\n",
        "  calif1 = int(input(\"Dame la primer calificación: \"))\n",
        "  if calif1 < 0 or calif1 > 100:\n",
        "    raise ValueError\n",
        "  calif2 = int(input(\"Dame la segunda calificación: \"))\n",
        "  if calif2 < 0 or calif2 > 100:\n",
        "    raise ValueError\n",
        "  calif3 = int(input(\"Dame la tercer calificación: \"))\n",
        "  if calif3 < 0 or calif3 > 100:\n",
        "    raise ValueError\n",
        "  calif4 = int(input(\"Dame la cuarta calificación: \"))\n",
        "  if calif4 < 0 or calif4 > 100:\n",
        "    raise ValueError\n",
        "  calif5 = int(input(\"Dame la quinta calificación: \"))\n",
        "  if calif4 < 0 or calif4 > 100:\n",
        "    raise ValueError\n",
        "\n",
        "except ValueError:\n",
        "  print(\"Error. Solo se aceptan números enteros, mayores a 0 y menores a 100.\")\n",
        "\n",
        "else:\n",
        "  menor = calif1\n",
        "  if menor > calif2:\n",
        "    menor = calif2\n",
        "  elif menor > calif3:\n",
        "    menor = calif3\n",
        "  elif menor > calif4:\n",
        "    menor = calif4\n",
        "  elif menor > calif5:\n",
        "    menor = calif5\n",
        "\n",
        "  prom = (calif1 + calif2 + calif3 + calif4 + calif5 - menor) / 4\n",
        "  print(f\"Promedio Final: {prom}\")\n",
        "\n",
        "  print(f\"La calificación eliminada fue: {menor}\")"
      ],
      "metadata": {
        "colab": {
          "base_uri": "https://localhost:8080/"
        },
        "id": "QjlIwqvvTZ_v",
        "outputId": "565e5179-6a49-4fcd-abdb-e9ee611001fa"
      },
      "execution_count": null,
      "outputs": [
        {
          "output_type": "stream",
          "name": "stdout",
          "text": [
            "Dame la primer calificación: hjbcdv\n",
            "Error. Solo se aceptan números enteros, mayores a 0 y menores a 100.\n"
          ]
        }
      ]
    },
    {
      "cell_type": "markdown",
      "source": [
        "**5- Algoritmo que sirva para el juego del CHINCHAMPU para 1 jugador y la computadora.**"
      ],
      "metadata": {
        "id": "YkqMStsQbxls"
      }
    },
    {
      "cell_type": "code",
      "source": [
        "try:\n",
        "  import random\n",
        "  opc = int(input(\"Elige (1-Piedra, 2-Papel, 3-Tijera): \"))\n",
        "  if opc < 1 or opc > 3:\n",
        "    raise ValueError\n",
        "\n",
        "except ValueError:\n",
        "  print(\"Error. Ingresa un número del 1 al 3.\")\n",
        "\n",
        "else:\n",
        "  comp = random.randint(1,3)\n",
        "  if opc == 1:\n",
        "    if comp == 1:\n",
        "      print(\"Es un empate. La computadora escogió piedra.\")\n",
        "    elif comp == 2:\n",
        "      print(\"Perdiste. La computadora escogió papel.\")\n",
        "    elif comp == 3:\n",
        "      print(\"Ganaste. La computadora escogió tijeras.\")\n",
        "\n",
        "  elif opc == 2:\n",
        "    if comp == 1:\n",
        "      print(\"Ganaste. La computadora escogió piedra.\")\n",
        "    elif comp == 2:\n",
        "      print(\"Es un empate. La computadora escogió papel.\")\n",
        "    elif comp == 3:\n",
        "      print(\"Perdiste. La computadora escogió tijeras.\")\n",
        "\n",
        "  elif opc == 3:\n",
        "    if comp == 1:\n",
        "      print(\"Perdiste. La computadora escogió piedra.\")\n",
        "    elif comp == 2:\n",
        "      print(\"Ganaste. La computadora escogió papel.\")\n",
        "    elif comp == 3:\n",
        "      print(\"Es un empate. La computadora escogió tijeras.\")"
      ],
      "metadata": {
        "colab": {
          "base_uri": "https://localhost:8080/"
        },
        "id": "u2Ls8uOQVn8k",
        "outputId": "e8178a8f-a114-4750-b8c9-5bec2c7fdf45"
      },
      "execution_count": null,
      "outputs": [
        {
          "output_type": "stream",
          "name": "stdout",
          "text": [
            "Elige (1-Piedra, 2-Papel, 3-Tijera): fdgh\n",
            "Error. Ingresa un número del 1 al 3.\n"
          ]
        }
      ]
    },
    {
      "cell_type": "markdown",
      "source": [
        "**6.- Programa en Python que lea 4 números enteros desplegar cual es el menor, cual es mayor**"
      ],
      "metadata": {
        "id": "SFY5eLg_W2M6"
      }
    },
    {
      "cell_type": "code",
      "source": [
        "try:\n",
        "  num1 = int(input(\"Ingresa el primer número: \"))\n",
        "  num2 = int(input(\"Ingresa el segundo número: \"))\n",
        "  num3 = int(input(\"Ingresa el tercer número: \"))\n",
        "  num4 = int(input(\"Ingresa el cuarto número: \"))\n",
        "\n",
        "except ValueError:\n",
        "  print(\"Error. Solo números enteros, no flotantes ni caracteres.\")\n",
        "\n",
        "else:\n",
        "  menor = num1\n",
        "  mayor = num1\n",
        "\n",
        "  if menor > num2:\n",
        "    menor = num2\n",
        "    mayor = num1\n",
        "  elif menor > num3:\n",
        "    menor = num3\n",
        "    mayor = num2\n",
        "  elif menor > num4:\n",
        "    menor = num4\n",
        "    mayor = num3\n",
        "  else:\n",
        "    mayor = num4\n",
        "\n",
        "  print(f\"El número menor es: {menor}\")\n",
        "  print(f\"El número mayor es: {mayor}\")\n"
      ],
      "metadata": {
        "id": "ZtJK2a-UW4PU",
        "colab": {
          "base_uri": "https://localhost:8080/"
        },
        "outputId": "12c4a8cd-e050-4073-d3db-e8f0345c6759"
      },
      "execution_count": null,
      "outputs": [
        {
          "output_type": "stream",
          "name": "stdout",
          "text": [
            "Ingresa el primer número: 18\n",
            "Ingresa el segundo número: 26\n",
            "Ingresa el tercer número: 2\n",
            "Ingresa el cuarto número: 22\n",
            "El número menor es: 2\n",
            "El número mayor es: 26\n"
          ]
        }
      ]
    },
    {
      "cell_type": "markdown",
      "source": [
        "7.- Programa que calcula el área de un triángulo."
      ],
      "metadata": {
        "id": "N0yeS7saQ9I2"
      }
    },
    {
      "cell_type": "code",
      "source": [
        "try:\n",
        "  base = float(input(\"Ingresa la medida de la base: \"))\n",
        "  if base < 0:\n",
        "    raise TypeError\n",
        "  alt = float(input(\"Ingresa la altura de la base: \"))\n",
        "  if alt < 0:\n",
        "    raise TypeError\n",
        "\n",
        "except ValueError:\n",
        "  print(\"Error. Dato no válido, ingresa números reales.\")\n",
        "except TypeError:\n",
        "  print(\"Error. No es posible ingresar números negativos.\")\n",
        "\n",
        "else:\n",
        "  area = (base * alt) / 2\n",
        "\n",
        "  print(f\"El área del triángulo es de {area} u2.\")"
      ],
      "metadata": {
        "colab": {
          "base_uri": "https://localhost:8080/"
        },
        "id": "e1HGV9JOmMjk",
        "outputId": "cd5bd475-8475-4b8e-e806-63f4ccbbdd80"
      },
      "execution_count": null,
      "outputs": [
        {
          "output_type": "stream",
          "name": "stdout",
          "text": [
            "Ingresa la medida de la base: 35.6\n",
            "Ingresa la altura de la base: 45.77\n",
            "El área del triángulo es de 814.7060000000001 u2.\n"
          ]
        }
      ]
    },
    {
      "cell_type": "markdown",
      "source": [
        "**8.- Programa que calcula el área de un círculo.**"
      ],
      "metadata": {
        "id": "psFnJ9E7Q9GZ"
      }
    },
    {
      "cell_type": "code",
      "source": [
        "try:\n",
        "  rad = float(input(\"Ingresa la medida del radio: \"))\n",
        "  if rad < 0:\n",
        "    raise TypeError\n",
        "\n",
        "except ValueError:\n",
        "  print(\"Error. Ingresa números reales.\")\n",
        "except TypeError:\n",
        "  print(\"Error. Dato no válido, no se aceptan números negativos.\")\n",
        "\n",
        "else:\n",
        "  area = (3.1416) * rad**2\n",
        "  print(f\"El área del círculo es de {area} u2.\")"
      ],
      "metadata": {
        "colab": {
          "base_uri": "https://localhost:8080/"
        },
        "id": "0KockxN3qnMU",
        "outputId": "3a29a563-3b52-48dd-eaf8-8ae2c57d19ce"
      },
      "execution_count": null,
      "outputs": [
        {
          "output_type": "stream",
          "name": "stdout",
          "text": [
            "Ingresa la medida del radio: 2\n",
            "El área del círculo es de 12.5664 u2.\n"
          ]
        }
      ]
    }
  ]
}