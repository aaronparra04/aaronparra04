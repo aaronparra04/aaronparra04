{
  "nbformat": 4,
  "nbformat_minor": 0,
  "metadata": {
    "colab": {
      "provenance": [],
      "authorship_tag": "ABX9TyOZxY6n2N+vSjp6xbfdO7zW",
      "include_colab_link": true
    },
    "kernelspec": {
      "name": "python3",
      "display_name": "Python 3"
    },
    "language_info": {
      "name": "python"
    }
  },
  "cells": [
    {
      "cell_type": "markdown",
      "metadata": {
        "id": "view-in-github",
        "colab_type": "text"
      },
      "source": [
        "<a href=\"https://colab.research.google.com/github/aaronparra04/aaronparra04/blob/main/AAPV_PY_exa1.ipynb\" target=\"_parent\"><img src=\"https://colab.research.google.com/assets/colab-badge.svg\" alt=\"Open In Colab\"/></a>"
      ]
    },
    {
      "cell_type": "code",
      "source": [
        "import random"
      ],
      "metadata": {
        "id": "G3S8Z7bd6RnY"
      },
      "execution_count": 3,
      "outputs": []
    },
    {
      "cell_type": "code",
      "execution_count": 45,
      "metadata": {
        "id": "k3nLctdz5Tix"
      },
      "outputs": [],
      "source": [
        "def genlista(lista):\n",
        "  try:\n",
        "    matr = 299\n",
        "    dicc = {}\n",
        "    while matr < 300000 or matr > 399999:\n",
        "      matr = int(input(\"Matrícula:\"))\n",
        "    else:\n",
        "        dicc['Matrícula'] = matr\n",
        "        dicc['APaterno'] = input(\"Apellido Paterno:\")\n",
        "        dicc['AMaterno'] = input(\"Apellido Materno:\")\n",
        "        dicc['Nombre'] = input(\"Nombre(s)\")\n",
        "\n",
        "        sx = 2\n",
        "        while sx < 0 or sx > 1:\n",
        "          sx = int(input(\"Sexo (1.-Hombre , 0.-Mujer):\"))\n",
        "          if sx < 0 and sx > 1:\n",
        "            raise TypeError\n",
        "        else:\n",
        "          if sx == 1:\n",
        "            dicc['Sexo'] = 'H'\n",
        "          else:\n",
        "            dicc['Sexo'] = 'M'\n",
        "          dicc['Edad'] = int(input(\"Edad:\"))\n",
        "          lista.append(dicc)\n",
        "          return lista\n",
        "  except ValueError:\n",
        "      print(\"Solo num enteros.\")\n"
      ]
    },
    {
      "cell_type": "code",
      "source": [
        "lista = []\n",
        "genlista(lista)\n",
        "print(lista)"
      ],
      "metadata": {
        "colab": {
          "base_uri": "https://localhost:8080/"
        },
        "id": "zLg9bqEZ5y8R",
        "outputId": "807eafd9-1afe-4ec5-af3f-924c3f7b3de7"
      },
      "execution_count": 46,
      "outputs": [
        {
          "output_type": "stream",
          "name": "stdout",
          "text": [
            "Matrícula:372193\n",
            "Apellido Paterno:Parra\n",
            "Apellido Materno:Velarde\n",
            "Nombre(s)Aaron Alejandro\n",
            "Sexo (1.-Hombre , 0.-Mujer):3\n",
            "Sexo (1.-Hombre , 0.-Mujer):1\n",
            "Edad:19\n",
            "[{'Matrícula': 372193, 'APaterno': 'Parra', 'AMaterno': 'Velarde', 'Nombre': 'Aaron Alejandro', 'Sexo': 'H', 'Edad': 19}]\n"
          ]
        }
      ]
    }
  ]
}